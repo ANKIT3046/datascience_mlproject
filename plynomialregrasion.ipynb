{
  "nbformat": 4,
  "nbformat_minor": 0,
  "metadata": {
    "colab": {
      "name": "plynomialregrasion.ipynb",
      "version": "0.3.2",
      "provenance": [],
      "include_colab_link": true
    },
    "kernelspec": {
      "name": "python3",
      "display_name": "Python 3"
    }
  },
  "cells": [
    {
      "cell_type": "markdown",
      "metadata": {
        "id": "view-in-github",
        "colab_type": "text"
      },
      "source": [
        "<a href=\"https://colab.research.google.com/github/ANKIT3046/datascience_mlproject/blob/regression/plynomialregrasion.ipynb\" target=\"_parent\"><img src=\"https://colab.research.google.com/assets/colab-badge.svg\" alt=\"Open In Colab\"/></a>"
      ]
    },
    {
      "cell_type": "markdown",
      "metadata": {
        "id": "mQEDVCgjCbFk",
        "colab_type": "text"
      },
      "source": [
        "# # y=ma+c+mx2+mx3  (plynomial)"
      ]
    },
    {
      "cell_type": "code",
      "metadata": {
        "id": "nSXNritpCN5h",
        "colab_type": "code",
        "colab": {}
      },
      "source": [
        "import pandas as pd\n",
        "import matplotlib.pyplot as plt"
      ],
      "execution_count": 0,
      "outputs": []
    },
    {
      "cell_type": "code",
      "metadata": {
        "id": "Qkq2ns72D0wd",
        "colab_type": "code",
        "colab": {}
      },
      "source": [
        "df=pd.read_csv('http://13.234.66.67/summer19/datasets/salary.csv')"
      ],
      "execution_count": 0,
      "outputs": []
    },
    {
      "cell_type": "code",
      "metadata": {
        "id": "hrhCAM_5EB7F",
        "colab_type": "code",
        "colab": {}
      },
      "source": [
        "exp=df.iloc[:,0:1].values"
      ],
      "execution_count": 0,
      "outputs": []
    },
    {
      "cell_type": "code",
      "metadata": {
        "id": "x-rSaR6zEHtF",
        "colab_type": "code",
        "colab": {}
      },
      "source": [
        "sal=df.iloc[:,1:].values"
      ],
      "execution_count": 0,
      "outputs": []
    },
    {
      "cell_type": "code",
      "metadata": {
        "id": "3A05uwgUEOhk",
        "colab_type": "code",
        "colab": {}
      },
      "source": [
        "#caliing linear model for compering\n",
        "from sklearn.linear_model import LinearRegression\n",
        "regl=LinearRegression()"
      ],
      "execution_count": 0,
      "outputs": []
    },
    {
      "cell_type": "code",
      "metadata": {
        "id": "abF4BRQGEfGy",
        "colab_type": "code",
        "colab": {}
      },
      "source": [
        "# to transfer data we can call poly transform method\n",
        "from sklearn.preprocessing import PolynomialFeatures"
      ],
      "execution_count": 0,
      "outputs": []
    },
    {
      "cell_type": "code",
      "metadata": {
        "id": "dbSaRJq8E-uT",
        "colab_type": "code",
        "colab": {}
      },
      "source": [
        "#experience transform\n",
        "#implement degree\n",
        "poly=PolynomialFeatures(degree=15)"
      ],
      "execution_count": 0,
      "outputs": []
    },
    {
      "cell_type": "code",
      "metadata": {
        "id": "BBgqAR0rFX01",
        "colab_type": "code",
        "colab": {}
      },
      "source": [
        "# exp fit\n",
        "newexp=poly.fit_transform(exp)"
      ],
      "execution_count": 0,
      "outputs": []
    },
    {
      "cell_type": "code",
      "metadata": {
        "id": "fdY3cSjBFfAB",
        "colab_type": "code",
        "colab": {}
      },
      "source": [
        "#apply linear regression\n",
        "train1=regl.fit(exp,sal)"
      ],
      "execution_count": 0,
      "outputs": []
    },
    {
      "cell_type": "code",
      "metadata": {
        "id": "HMs_3CqeGAGj",
        "colab_type": "code",
        "outputId": "bf8fd63a-8cd2-437a-fd69-fcd3d7f3ce6f",
        "colab": {
          "base_uri": "https://localhost:8080/",
          "height": 283
        }
      },
      "source": [
        "# now creating linear model again\n",
        "plt.xlabel('exp')\n",
        "plt.ylabel('sal')\n",
        "plt.scatter(exp,sal,label='actual sal')\n",
        "plt.plot(exp,train1.predict(exp),label='linear model predict salery')\n",
        "plt.legend()\n",
        "plt.show()"
      ],
      "execution_count": 0,
      "outputs": [
        {
          "output_type": "display_data",
          "data": {
            "image/png": "[encoded data removed]",
            "text/plain": [
              "<Figure size 432x288 with 1 Axes>"
            ]
          },
          "metadata": {
            "tags": []
          }
        }
      ]
    },
    {
      "cell_type": "code",
      "metadata": {
        "id": "k3sf9_I7GmUF",
        "colab_type": "code",
        "colab": {}
      },
      "source": [
        "# applying new exp data model again\n",
        "regr2=LinearRegression()"
      ],
      "execution_count": 0,
      "outputs": []
    },
    {
      "cell_type": "code",
      "metadata": {
        "id": "ipF3FODyG_29",
        "colab_type": "code",
        "colab": {}
      },
      "source": [
        "train2=regr2.fit(newexp,sal)"
      ],
      "execution_count": 0,
      "outputs": []
    },
    {
      "cell_type": "code",
      "metadata": {
        "id": "IO6x1J7qHVfo",
        "colab_type": "code",
        "outputId": "9fb7e575-14fa-4b02-e499-71544ab8b0a0",
        "colab": {
          "base_uri": "https://localhost:8080/",
          "height": 283
        }
      },
      "source": [
        "plt.xlabel('exp')\n",
        "plt.ylabel('sal')\n",
        "plt.scatter(exp,sal,label='actual sal')\n",
        "plt.plot(exp,train2.predict(newexp),label='newmodel')\n",
        "plt.legend()\n",
        "plt.show()"
      ],
      "execution_count": 0,
      "outputs": [
        {
          "output_type": "display_data",
          "data": {
            "image/png": "[encoded data removed]",
            "text/plain": [
              "<Figure size 432x288 with 1 Axes>"
            ]
          },
          "metadata": {
            "tags": []
          }
        }
      ]
    },
    {
      "cell_type": "code",
      "metadata": {
        "id": "ZgNwBupqIc-K",
        "colab_type": "code",
        "colab": {}
      },
      "source": [
        ""
      ],
      "execution_count": 0,
      "outputs": []
    }
  ]
}