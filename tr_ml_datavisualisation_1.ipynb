{
  "nbformat": 4,
  "nbformat_minor": 0,
  "metadata": {
    "colab": {
      "name": "tr.ml.datavisualisation.1.ipynb",
      "version": "0.3.2",
      "provenance": [],
      "include_colab_link": true
    },
    "kernelspec": {
      "name": "python3",
      "display_name": "Python 3"
    }
  },
  "cells": [
    {
      "cell_type": "markdown",
      "metadata": {
        "id": "view-in-github",
        "colab_type": "text"
      },
      "source": [
        "<a href=\"https://colab.research.google.com/github/ANKIT3046/datascience_mlproject/blob/data_processing/tr_ml_datavisualisation_1.ipynb\" target=\"_parent\"><img src=\"https://colab.research.google.com/assets/colab-badge.svg\" alt=\"Open In Colab\"/></a>"
      ]
    },
    {
      "cell_type": "code",
      "metadata": {
        "id": "gUU0MYdti2LC",
        "colab_type": "code",
        "colab": {}
      },
      "source": [
        "import pandas as pd\n",
        "import matplotlib.pyplot as plt\n",
        "import seaborn as sb"
      ],
      "execution_count": 0,
      "outputs": []
    },
    {
      "cell_type": "code",
      "metadata": {
        "id": "Pqrn4cDhnmTK",
        "colab_type": "code",
        "outputId": "bdc0fe36-1fb2-4b37-cc75-840b4a8dbf6f",
        "colab": {
          "base_uri": "https://localhost:8080/",
          "height": 173
        }
      },
      "source": [
        "df=pd.read_csv('Book_3.csv')\n",
        "df"
      ],
      "execution_count": 3,
      "outputs": [
        {
          "output_type": "execute_result",
          "data": {
            "text/html": [
              "<div>\n",
              "<style scoped>\n",
              "    .dataframe tbody tr th:only-of-type {\n",
              "        vertical-align: middle;\n",
              "    }\n",
              "\n",
              "    .dataframe tbody tr th {\n",
              "        vertical-align: top;\n",
              "    }\n",
              "\n",
              "    .dataframe thead th {\n",
              "        text-align: right;\n",
              "    }\n",
              "</style>\n",
              "<table border=\"1\" class=\"dataframe\">\n",
              "  <thead>\n",
              "    <tr style=\"text-align: right;\">\n",
              "      <th></th>\n",
              "      <th>student_name</th>\n",
              "      <th>marks</th>\n",
              "      <th>age</th>\n",
              "      <th>contact</th>\n",
              "      <th>study_hours</th>\n",
              "    </tr>\n",
              "  </thead>\n",
              "  <tbody>\n",
              "    <tr>\n",
              "      <th>0</th>\n",
              "      <td>ayush kumar</td>\n",
              "      <td>90</td>\n",
              "      <td>15</td>\n",
              "      <td>8709774667</td>\n",
              "      <td>5</td>\n",
              "    </tr>\n",
              "    <tr>\n",
              "      <th>1</th>\n",
              "      <td>aalok</td>\n",
              "      <td>80</td>\n",
              "      <td>16</td>\n",
              "      <td>5896482548</td>\n",
              "      <td>4</td>\n",
              "    </tr>\n",
              "    <tr>\n",
              "      <th>2</th>\n",
              "      <td>suraj</td>\n",
              "      <td>91</td>\n",
              "      <td>14</td>\n",
              "      <td>4525455865</td>\n",
              "      <td>9</td>\n",
              "    </tr>\n",
              "    <tr>\n",
              "      <th>3</th>\n",
              "      <td>akshat</td>\n",
              "      <td>50</td>\n",
              "      <td>15</td>\n",
              "      <td>5245256245</td>\n",
              "      <td>3</td>\n",
              "    </tr>\n",
              "  </tbody>\n",
              "</table>\n",
              "</div>"
            ],
            "text/plain": [
              "  student_name  marks  age     contact  study_hours\n",
              "0  ayush kumar     90   15  8709774667            5\n",
              "1        aalok     80   16  5896482548            4\n",
              "2        suraj     91   14  4525455865            9\n",
              "3       akshat     50   15  5245256245            3"
            ]
          },
          "metadata": {
            "tags": []
          },
          "execution_count": 3
        }
      ]
    },
    {
      "cell_type": "code",
      "metadata": {
        "id": "0K2ComzzetJL",
        "colab_type": "code",
        "colab": {
          "base_uri": "https://localhost:8080/",
          "height": 102
        },
        "outputId": "85c625aa-83e6-4f76-f405-7cbb5297100d"
      },
      "source": [
        "df.iloc[0:,0]"
      ],
      "execution_count": 7,
      "outputs": [
        {
          "output_type": "execute_result",
          "data": {
            "text/plain": [
              "0    ayush kumar\n",
              "1          aalok\n",
              "2          suraj\n",
              "3         akshat\n",
              "Name: student_name, dtype: object"
            ]
          },
          "metadata": {
            "tags": []
          },
          "execution_count": 7
        }
      ]
    },
    {
      "cell_type": "code",
      "metadata": {
        "id": "VZ7gHyL5nrhz",
        "colab_type": "code",
        "colab": {
          "base_uri": "https://localhost:8080/",
          "height": 459
        },
        "outputId": "5a39e280-b268-4050-e41e-b8ce69b9635e"
      },
      "source": [
        "plt.pie(df.iloc[0:,1],labels=df.iloc[0:,0],autopct='%1.1f%%')"
      ],
      "execution_count": 8,
      "outputs": [
        {
          "output_type": "execute_result",
          "data": {
            "text/plain": [
              "([<matplotlib.patches.Wedge at 0x7fc3c7a22080>,\n",
              "  <matplotlib.patches.Wedge at 0x7fc3c7a227b8>,\n",
              "  <matplotlib.patches.Wedge at 0x7fc3c7a22eb8>,\n",
              "  <matplotlib.patches.Wedge at 0x7fc3c7a2a5f8>],\n",
              " [Text(0.6758646987906298, 0.8678749385301153, 'ayush kumar'),\n",
              "  Text(-0.9572240437871827, 0.5419613731583774, 'aalok'),\n",
              "  Text(-0.3860663915315043, -1.0300256022691103, 'suraj'),\n",
              "  Text(0.9626497777492491, -0.5322644130498692, 'akshat')],\n",
              " [Text(0.36865347206761623, 0.47338633010733555, '28.9%'),\n",
              "  Text(-0.5221222057020996, 0.295615294450024, '25.7%'),\n",
              "  Text(-0.21058166810809323, -0.5618321466922419, '29.3%'),\n",
              "  Text(0.5250816969541358, -0.2903260434817468, '16.1%')])"
            ]
          },
          "metadata": {
            "tags": []
          },
          "execution_count": 8
        },
        {
          "output_type": "display_data",
          "data": {
            "image/png": "[encoded data removed]",
            "text/plain": [
              "<Figure size 432x288 with 1 Axes>"
            ]
          },
          "metadata": {
            "tags": []
          }
        }
      ]
    },
    {
      "cell_type": "code",
      "metadata": {
        "id": "RiUfQMJ0dV4Y",
        "colab_type": "code",
        "colab": {
          "base_uri": "https://localhost:8080/",
          "height": 746
        },
        "outputId": "f7dc2b59-91da-4ef7-a7cd-8e2a49b0c0c0"
      },
      "source": [
        "sb.pairplot(df)"
      ],
      "execution_count": 9,
      "outputs": [
        {
          "output_type": "execute_result",
          "data": {
            "text/plain": [
              "<seaborn.axisgrid.PairGrid at 0x7fc3d327e2e8>"
            ]
          },
          "metadata": {
            "tags": []
          },
          "execution_count": 9
        },
        {
          "output_type": "display_data",
          "data": {
            "image/png": "[encoded data removed]",
            "text/plain": [
              "<Figure size 720x720 with 20 Axes>"
            ]
          },
          "metadata": {
            "tags": []
          }
        }
      ]
    },
    {
      "cell_type": "code",
      "metadata": {
        "id": "kN7-VY8WgmD2",
        "colab_type": "code",
        "colab": {}
      },
      "source": [
        ""
      ],
      "execution_count": 0,
      "outputs": []
    }
  ]
}