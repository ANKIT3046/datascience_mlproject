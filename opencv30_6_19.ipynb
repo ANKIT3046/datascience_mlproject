{
  "nbformat": 4,
  "nbformat_minor": 0,
  "metadata": {
    "colab": {
      "name": "opencv30.6.19.ipynb",
      "version": "0.3.2",
      "provenance": [],
      "include_colab_link": true
    },
    "kernelspec": {
      "name": "python3",
      "display_name": "Python 3"
    }
  },
  "cells": [
    {
      "cell_type": "markdown",
      "metadata": {
        "id": "view-in-github",
        "colab_type": "text"
      },
      "source": [
        "<a href=\"https://colab.research.google.com/github/ANKIT3046/datascience_mlproject/blob/computer-vision/opencv30_6_19.ipynb\" target=\"_parent\"><img src=\"https://colab.research.google.com/assets/colab-badge.svg\" alt=\"Open In Colab\"/></a>"
      ]
    },
    {
      "cell_type": "code",
      "metadata": {
        "id": "1045_R5zeALD",
        "colab_type": "code",
        "colab": {}
      },
      "source": [
        "#code1\n",
        "import cv2\n",
        "import sys\n",
        "data=sys.argv[1]\n",
        "\n",
        "# image read\n",
        "img=cv2.imread(data, 1)\n",
        "print(img)\n",
        "#shape\n",
        "print(img.shape)\n",
        "# to show the IMREg\n",
        "cv2.imshow('cat',img)\n",
        "#cv2.imshow('cat1',img-50)\n",
        "#cv2.imshow('cat3',img+100)\n",
        "cv2.waitKey(0) #hold window for infinite time\n",
        "# home task make filters bu spliting and appling at specific place then merge it\n"
      ],
      "execution_count": 0,
      "outputs": []
    },
    {
      "cell_type": "code",
      "metadata": {
        "id": "_U6xRUPpd6aI",
        "colab_type": "code",
        "colab": {}
      },
      "source": [
        "#code 2\n",
        "import cv2\n",
        "# starting camera\n",
        "cap=cv2.VideoCapture(0) # this is first camera\n",
        "\n",
        "if cap.isOpened():\n",
        "    print('camera is ready to take picture') # to check camera started or not\n",
        "else:\n",
        "    print('check your web cam drive')\n",
        "\n",
        "# now we can take read imput from camera\n",
        "status,img=cap.read()\n",
        "# now showing\n",
        "cv2.imshow('ankit',img)\n",
        "cv2.waitKey(0)\n",
        "# to close camera\n",
        "cap.release()\n"
      ],
      "execution_count": 0,
      "outputs": []
    },
    {
      "cell_type": "code",
      "metadata": {
        "id": "I2GCoj5ck4eK",
        "colab_type": "code",
        "colab": {}
      },
      "source": [
        "#code3\n",
        "import cv2\n",
        "\n",
        "cap=cv2.VideoCapture(0)\n",
        "\n",
        "while cap.isOpened():\n",
        "    status,frame=cap.read()\n",
        "    cv2.imshow('live',frame)\n",
        "    if cv2.waitKey(10) & 0xFF==ord('q'):\n",
        "        break\n",
        "\n",
        "cv2.destroyAllWindows()\n",
        "cap.release()\n"
      ],
      "execution_count": 0,
      "outputs": []
    }
  ]
}