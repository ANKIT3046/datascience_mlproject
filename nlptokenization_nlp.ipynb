{
  "nbformat": 4,
  "nbformat_minor": 0,
  "metadata": {
    "colab": {
      "name": "nlptokenization.nlp.ipynb",
      "version": "0.3.2",
      "provenance": [],
      "include_colab_link": true
    },
    "kernelspec": {
      "name": "python3",
      "display_name": "Python 3"
    }
  },
  "cells": [
    {
      "cell_type": "markdown",
      "metadata": {
        "id": "view-in-github",
        "colab_type": "text"
      },
      "source": [
        "<a href=\"https://colab.research.google.com/github/ANKIT3046/datascience_mlproject/blob/npl/nlptokenization_nlp.ipynb\" target=\"_parent\"><img src=\"https://colab.research.google.com/assets/colab-badge.svg\" alt=\"Open In Colab\"/></a>"
      ]
    },
    {
      "cell_type": "code",
      "metadata": {
        "id": "zhSDiwIZPURO",
        "colab_type": "code",
        "colab": {}
      },
      "source": [
        "msg='''\n",
        "\n",
        "hello world this is ankit kumar. i am leraning ok ok machine learning.\n",
        "i am in jaipur. but did't get time to explore jaipur,but definetly when i am free\n",
        "i do ?\n",
        "hi guys\n",
        "\n",
        "'''"
      ],
      "execution_count": 0,
      "outputs": []
    },
    {
      "cell_type": "code",
      "metadata": {
        "id": "Jq1iH8urQ6RE",
        "colab_type": "code",
        "colab": {}
      },
      "source": [
        "#import tokenizer\n",
        "from nltk.tokenize import sent_tokenize\n",
        "from nltk.tokenize import word_tokenize"
      ],
      "execution_count": 0,
      "outputs": []
    },
    {
      "cell_type": "code",
      "metadata": {
        "id": "caCuIZ5aXp54",
        "colab_type": "code",
        "colab": {}
      },
      "source": [
        "# sentence tokenize\n",
        "sent=sent_tokenize(msg)"
      ],
      "execution_count": 0,
      "outputs": []
    },
    {
      "cell_type": "code",
      "metadata": {
        "id": "oRDKIlVlX6jP",
        "colab_type": "code",
        "colab": {
          "base_uri": "https://localhost:8080/",
          "height": 102
        },
        "outputId": "a593c166-c66f-4225-dc06-f8d4bbb6365d"
      },
      "source": [
        "sent"
      ],
      "execution_count": 6,
      "outputs": [
        {
          "output_type": "execute_result",
          "data": {
            "text/plain": [
              "['\\n\\nhello world this is ankit kumar.',\n",
              " 'i am leraning ok ok machine learning.',\n",
              " 'i am in jaipur.',\n",
              " \"but did't get time to explore jaipur,but definetly when i am free\\ni do ?\",\n",
              " 'hi guys']"
            ]
          },
          "metadata": {
            "tags": []
          },
          "execution_count": 6
        }
      ]
    },
    {
      "cell_type": "code",
      "metadata": {
        "id": "3X9XGZVFX8Cs",
        "colab_type": "code",
        "colab": {
          "base_uri": "https://localhost:8080/",
          "height": 34
        },
        "outputId": "be5dc592-57a6-49b9-e881-849920ecdea0"
      },
      "source": [
        "len(sent)"
      ],
      "execution_count": 7,
      "outputs": [
        {
          "output_type": "execute_result",
          "data": {
            "text/plain": [
              "5"
            ]
          },
          "metadata": {
            "tags": []
          },
          "execution_count": 7
        }
      ]
    },
    {
      "cell_type": "code",
      "metadata": {
        "id": "sdSxWuEmYEFe",
        "colab_type": "code",
        "colab": {}
      },
      "source": [
        "# now tokenizing by words\n",
        "word=word_tokenize(msg)"
      ],
      "execution_count": 0,
      "outputs": []
    },
    {
      "cell_type": "code",
      "metadata": {
        "id": "wqS2z5SUYStb",
        "colab_type": "code",
        "colab": {
          "base_uri": "https://localhost:8080/",
          "height": 680
        },
        "outputId": "ac6f5f91-d3ef-49bd-be19-b673caa8a491"
      },
      "source": [
        "word"
      ],
      "execution_count": 9,
      "outputs": [
        {
          "output_type": "execute_result",
          "data": {
            "text/plain": [
              "['hello',\n",
              " 'world',\n",
              " 'this',\n",
              " 'is',\n",
              " 'ankit',\n",
              " 'kumar',\n",
              " '.',\n",
              " 'i',\n",
              " 'am',\n",
              " 'leraning',\n",
              " 'ok',\n",
              " 'ok',\n",
              " 'machine',\n",
              " 'learning',\n",
              " '.',\n",
              " 'i',\n",
              " 'am',\n",
              " 'in',\n",
              " 'jaipur',\n",
              " '.',\n",
              " 'but',\n",
              " \"did't\",\n",
              " 'get',\n",
              " 'time',\n",
              " 'to',\n",
              " 'explore',\n",
              " 'jaipur',\n",
              " ',',\n",
              " 'but',\n",
              " 'definetly',\n",
              " 'when',\n",
              " 'i',\n",
              " 'am',\n",
              " 'free',\n",
              " 'i',\n",
              " 'do',\n",
              " '?',\n",
              " 'hi',\n",
              " 'guys']"
            ]
          },
          "metadata": {
            "tags": []
          },
          "execution_count": 9
        }
      ]
    },
    {
      "cell_type": "code",
      "metadata": {
        "id": "_lRrOVhZYTno",
        "colab_type": "code",
        "colab": {
          "base_uri": "https://localhost:8080/",
          "height": 34
        },
        "outputId": "8e0b0960-d4f9-4fd4-bb5c-43e46204424c"
      },
      "source": [
        "len(word)"
      ],
      "execution_count": 10,
      "outputs": [
        {
          "output_type": "execute_result",
          "data": {
            "text/plain": [
              "39"
            ]
          },
          "metadata": {
            "tags": []
          },
          "execution_count": 10
        }
      ]
    },
    {
      "cell_type": "code",
      "metadata": {
        "id": "XfU5piQiYWMU",
        "colab_type": "code",
        "colab": {
          "base_uri": "https://localhost:8080/",
          "height": 68
        },
        "outputId": "fc2b4dfc-0779-4267-fd39-a5f0fd200ab8"
      },
      "source": [
        "# stopwords remove\n",
        "import nltk\n",
        "nltk.download('stopwords')"
      ],
      "execution_count": 11,
      "outputs": [
        {
          "output_type": "stream",
          "text": [
            "[nltk_data] Downloading package stopwords to /root/nltk_data...\n",
            "[nltk_data]   Package stopwords is already up-to-date!\n"
          ],
          "name": "stdout"
        },
        {
          "output_type": "execute_result",
          "data": {
            "text/plain": [
              "True"
            ]
          },
          "metadata": {
            "tags": []
          },
          "execution_count": 11
        }
      ]
    },
    {
      "cell_type": "code",
      "metadata": {
        "id": "dlH_mLvVYvf7",
        "colab_type": "code",
        "colab": {}
      },
      "source": [
        "from nltk.corpus import stopwords"
      ],
      "execution_count": 0,
      "outputs": []
    },
    {
      "cell_type": "code",
      "metadata": {
        "id": "3SmcFs_TY1Xj",
        "colab_type": "code",
        "colab": {}
      },
      "source": [
        "newword=[i for i in word if i.lower() not in stopwords.words('english')]"
      ],
      "execution_count": 0,
      "outputs": []
    },
    {
      "cell_type": "code",
      "metadata": {
        "id": "1AGtufa2ZB93",
        "colab_type": "code",
        "colab": {
          "base_uri": "https://localhost:8080/",
          "height": 34
        },
        "outputId": "1cc8f6dc-3a6d-43a1-a942-f7a84e921f43"
      },
      "source": [
        "len(newword)"
      ],
      "execution_count": 15,
      "outputs": [
        {
          "output_type": "execute_result",
          "data": {
            "text/plain": [
              "24"
            ]
          },
          "metadata": {
            "tags": []
          },
          "execution_count": 15
        }
      ]
    },
    {
      "cell_type": "code",
      "metadata": {
        "id": "tSh19-oHZH3F",
        "colab_type": "code",
        "colab": {}
      },
      "source": [
        "import matplotlib.pyplot as plt"
      ],
      "execution_count": 0,
      "outputs": []
    },
    {
      "cell_type": "code",
      "metadata": {
        "id": "84LEvpdTZOUZ",
        "colab_type": "code",
        "colab": {
          "base_uri": "https://localhost:8080/",
          "height": 317
        },
        "outputId": "ed0a996f-e645-4074-ff8e-9896036dfb7e"
      },
      "source": [
        "nlp=nltk.FreqDist(word)\n",
        "nlp.plot()"
      ],
      "execution_count": 17,
      "outputs": [
        {
          "output_type": "display_data",
          "data": {
            "image/png": "[encoded data removed]",
            "text/plain": [
              "<Figure size 432x288 with 1 Axes>"
            ]
          },
          "metadata": {
            "tags": []
          }
        }
      ]
    },
    {
      "cell_type": "code",
      "metadata": {
        "id": "8XqkBguAZX_b",
        "colab_type": "code",
        "colab": {
          "base_uri": "https://localhost:8080/",
          "height": 317
        },
        "outputId": "a1c7fd31-04c8-4983-cd0b-b96503a1fa9d"
      },
      "source": [
        "nlp1=nltk.FreqDist(newword)\n",
        "nlp1.plot()"
      ],
      "execution_count": 18,
      "outputs": [
        {
          "output_type": "display_data",
          "data": {
            "image/png": "[encoded data removed]",
            "text/plain": [
              "<Figure size 432x288 with 1 Axes>"
            ]
          },
          "metadata": {
            "tags": []
          }
        }
      ]
    },
    {
      "cell_type": "code",
      "metadata": {
        "id": "q3pwBXQXZfXh",
        "colab_type": "code",
        "colab": {}
      },
      "source": [
        ""
      ],
      "execution_count": 0,
      "outputs": []
    }
  ]
}