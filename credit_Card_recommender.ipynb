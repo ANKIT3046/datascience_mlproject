{
  "nbformat": 4,
  "nbformat_minor": 0,
  "metadata": {
    "colab": {
      "name": "Untitled26.ipynb",
      "version": "0.3.2",
      "provenance": [],
      "include_colab_link": true
    },
    "kernelspec": {
      "name": "python3",
      "display_name": "Python 3"
    }
  },
  "cells": [
    {
      "cell_type": "markdown",
      "metadata": {
        "id": "view-in-github",
        "colab_type": "text"
      },
      "source": [
        "<a href=\"https://colab.research.google.com/github/ANKIT3046/datascience_mlproject/blob/supervised_ml/credit_Card_recommender.ipynb\" target=\"_parent\"><img src=\"https://colab.research.google.com/assets/colab-badge.svg\" alt=\"Open In Colab\"/></a>"
      ]
    },
    {
      "cell_type": "code",
      "metadata": {
        "id": "_IXj4RU9LCgt",
        "colab_type": "code",
        "colab": {}
      },
      "source": [
        "import pandas as pd"
      ],
      "execution_count": 0,
      "outputs": []
    },
    {
      "cell_type": "code",
      "metadata": {
        "id": "hiVIEdcTOkLD",
        "colab_type": "code",
        "colab": {}
      },
      "source": [
        "df=pd.read_csv('Test 1.csv')"
      ],
      "execution_count": 0,
      "outputs": []
    },
    {
      "cell_type": "code",
      "metadata": {
        "id": "OCwDh27BOsi6",
        "colab_type": "code",
        "outputId": "73dd38e8-7df1-4803-f5f3-48d416374136",
        "colab": {
          "base_uri": "https://localhost:8080/",
          "height": 224
        }
      },
      "source": [
        "df.head()"
      ],
      "execution_count": 0,
      "outputs": [
        {
          "output_type": "execute_result",
          "data": {
            "text/html": [
              "<div>\n",
              "<style scoped>\n",
              "    .dataframe tbody tr th:only-of-type {\n",
              "        vertical-align: middle;\n",
              "    }\n",
              "\n",
              "    .dataframe tbody tr th {\n",
              "        vertical-align: top;\n",
              "    }\n",
              "\n",
              "    .dataframe thead th {\n",
              "        text-align: right;\n",
              "    }\n",
              "</style>\n",
              "<table border=\"1\" class=\"dataframe\">\n",
              "  <thead>\n",
              "    <tr style=\"text-align: right;\">\n",
              "      <th></th>\n",
              "      <th>customer_id</th>\n",
              "      <th>demographic_slice</th>\n",
              "      <th>country_reg</th>\n",
              "      <th>ad_exp</th>\n",
              "      <th>est_income</th>\n",
              "      <th>hold_bal</th>\n",
              "      <th>pref_cust_prob</th>\n",
              "      <th>imp_cscore</th>\n",
              "      <th>RiskScore</th>\n",
              "      <th>imp_crediteval</th>\n",
              "      <th>axio_score</th>\n",
              "      <th>card_offer</th>\n",
              "    </tr>\n",
              "  </thead>\n",
              "  <tbody>\n",
              "    <tr>\n",
              "      <th>0</th>\n",
              "      <td>713782</td>\n",
              "      <td>AX03efs</td>\n",
              "      <td>W</td>\n",
              "      <td>N</td>\n",
              "      <td>33407.901749</td>\n",
              "      <td>3.000000</td>\n",
              "      <td>0.531112</td>\n",
              "      <td>619</td>\n",
              "      <td>503.249027</td>\n",
              "      <td>23.977827</td>\n",
              "      <td>0.137289</td>\n",
              "      <td>False</td>\n",
              "    </tr>\n",
              "    <tr>\n",
              "      <th>1</th>\n",
              "      <td>515901</td>\n",
              "      <td>AX03efs</td>\n",
              "      <td>E</td>\n",
              "      <td>N</td>\n",
              "      <td>19927.533533</td>\n",
              "      <td>20.257927</td>\n",
              "      <td>0.297439</td>\n",
              "      <td>527</td>\n",
              "      <td>820.108146</td>\n",
              "      <td>22.986398</td>\n",
              "      <td>0.052264</td>\n",
              "      <td>False</td>\n",
              "    </tr>\n",
              "    <tr>\n",
              "      <th>2</th>\n",
              "      <td>95166</td>\n",
              "      <td>AX03efs</td>\n",
              "      <td>W</td>\n",
              "      <td>Y</td>\n",
              "      <td>51222.470997</td>\n",
              "      <td>4.000000</td>\n",
              "      <td>0.018463</td>\n",
              "      <td>606</td>\n",
              "      <td>586.605795</td>\n",
              "      <td>24.939219</td>\n",
              "      <td>0.452035</td>\n",
              "      <td>False</td>\n",
              "    </tr>\n",
              "    <tr>\n",
              "      <th>3</th>\n",
              "      <td>425557</td>\n",
              "      <td>AX03efs</td>\n",
              "      <td>E</td>\n",
              "      <td>Y</td>\n",
              "      <td>67211.587467</td>\n",
              "      <td>18.653631</td>\n",
              "      <td>0.089344</td>\n",
              "      <td>585</td>\n",
              "      <td>634.701982</td>\n",
              "      <td>24.841147</td>\n",
              "      <td>0.564619</td>\n",
              "      <td>False</td>\n",
              "    </tr>\n",
              "    <tr>\n",
              "      <th>4</th>\n",
              "      <td>624581</td>\n",
              "      <td>AX03efs</td>\n",
              "      <td>W</td>\n",
              "      <td>N</td>\n",
              "      <td>20093.342158</td>\n",
              "      <td>4.000000</td>\n",
              "      <td>0.094948</td>\n",
              "      <td>567</td>\n",
              "      <td>631.949979</td>\n",
              "      <td>24.679363</td>\n",
              "      <td>0.917304</td>\n",
              "      <td>False</td>\n",
              "    </tr>\n",
              "  </tbody>\n",
              "</table>\n",
              "</div>"
            ],
            "text/plain": [
              "   customer_id demographic_slice  ... axio_score card_offer\n",
              "0       713782           AX03efs  ...   0.137289      False\n",
              "1       515901           AX03efs  ...   0.052264      False\n",
              "2        95166           AX03efs  ...   0.452035      False\n",
              "3       425557           AX03efs  ...   0.564619      False\n",
              "4       624581           AX03efs  ...   0.917304      False\n",
              "\n",
              "[5 rows x 12 columns]"
            ]
          },
          "metadata": {
            "tags": []
          },
          "execution_count": 3
        }
      ]
    },
    {
      "cell_type": "code",
      "metadata": {
        "id": "fLew5qcoOx7Z",
        "colab_type": "code",
        "outputId": "c3c6ddf0-a2fb-4a75-df82-b862119705f4",
        "colab": {
          "base_uri": "https://localhost:8080/",
          "height": 306
        }
      },
      "source": [
        "df.info()"
      ],
      "execution_count": 0,
      "outputs": [
        {
          "output_type": "stream",
          "text": [
            "<class 'pandas.core.frame.DataFrame'>\n",
            "RangeIndex: 10000 entries, 0 to 9999\n",
            "Data columns (total 12 columns):\n",
            "customer_id          10000 non-null int64\n",
            "demographic_slice    10000 non-null object\n",
            "country_reg          10000 non-null object\n",
            "ad_exp               10000 non-null object\n",
            "est_income           10000 non-null float64\n",
            "hold_bal             10000 non-null float64\n",
            "pref_cust_prob       10000 non-null float64\n",
            "imp_cscore           10000 non-null int64\n",
            "RiskScore            10000 non-null float64\n",
            "imp_crediteval       10000 non-null float64\n",
            "axio_score           10000 non-null float64\n",
            "card_offer           10000 non-null bool\n",
            "dtypes: bool(1), float64(6), int64(2), object(3)\n",
            "memory usage: 869.2+ KB\n"
          ],
          "name": "stdout"
        }
      ]
    },
    {
      "cell_type": "code",
      "metadata": {
        "id": "y-VFszTGO9Dc",
        "colab_type": "code",
        "outputId": "8e2752c8-9f70-4e4d-a686-5810a3228c47",
        "colab": {
          "base_uri": "https://localhost:8080/",
          "height": 317
        }
      },
      "source": [
        "df.describe()"
      ],
      "execution_count": 0,
      "outputs": [
        {
          "output_type": "execute_result",
          "data": {
            "text/html": [
              "<div>\n",
              "<style scoped>\n",
              "    .dataframe tbody tr th:only-of-type {\n",
              "        vertical-align: middle;\n",
              "    }\n",
              "\n",
              "    .dataframe tbody tr th {\n",
              "        vertical-align: top;\n",
              "    }\n",
              "\n",
              "    .dataframe thead th {\n",
              "        text-align: right;\n",
              "    }\n",
              "</style>\n",
              "<table border=\"1\" class=\"dataframe\">\n",
              "  <thead>\n",
              "    <tr style=\"text-align: right;\">\n",
              "      <th></th>\n",
              "      <th>customer_id</th>\n",
              "      <th>est_income</th>\n",
              "      <th>hold_bal</th>\n",
              "      <th>pref_cust_prob</th>\n",
              "      <th>imp_cscore</th>\n",
              "      <th>RiskScore</th>\n",
              "      <th>imp_crediteval</th>\n",
              "      <th>axio_score</th>\n",
              "    </tr>\n",
              "  </thead>\n",
              "  <tbody>\n",
              "    <tr>\n",
              "      <th>count</th>\n",
              "      <td>10000.000000</td>\n",
              "      <td>10000.000000</td>\n",
              "      <td>10000.000000</td>\n",
              "      <td>10000.000000</td>\n",
              "      <td>10000.000000</td>\n",
              "      <td>10000.000000</td>\n",
              "      <td>10000.000000</td>\n",
              "      <td>10000.000000</td>\n",
              "    </tr>\n",
              "    <tr>\n",
              "      <th>mean</th>\n",
              "      <td>496819.831400</td>\n",
              "      <td>65853.355259</td>\n",
              "      <td>20.962621</td>\n",
              "      <td>0.329419</td>\n",
              "      <td>662.548800</td>\n",
              "      <td>670.042869</td>\n",
              "      <td>25.692162</td>\n",
              "      <td>0.393211</td>\n",
              "    </tr>\n",
              "    <tr>\n",
              "      <th>std</th>\n",
              "      <td>287391.314157</td>\n",
              "      <td>31093.369592</td>\n",
              "      <td>18.841121</td>\n",
              "      <td>0.223299</td>\n",
              "      <td>90.549985</td>\n",
              "      <td>89.965854</td>\n",
              "      <td>1.889274</td>\n",
              "      <td>0.288243</td>\n",
              "    </tr>\n",
              "    <tr>\n",
              "      <th>min</th>\n",
              "      <td>244.000000</td>\n",
              "      <td>2.054543</td>\n",
              "      <td>-2.140206</td>\n",
              "      <td>0.001781</td>\n",
              "      <td>500.000000</td>\n",
              "      <td>324.436647</td>\n",
              "      <td>21.363123</td>\n",
              "      <td>-0.000052</td>\n",
              "    </tr>\n",
              "    <tr>\n",
              "      <th>25%</th>\n",
              "      <td>245172.500000</td>\n",
              "      <td>39165.786086</td>\n",
              "      <td>6.150577</td>\n",
              "      <td>0.156965</td>\n",
              "      <td>600.000000</td>\n",
              "      <td>609.231181</td>\n",
              "      <td>24.295435</td>\n",
              "      <td>0.139424</td>\n",
              "    </tr>\n",
              "    <tr>\n",
              "      <th>50%</th>\n",
              "      <td>495734.000000</td>\n",
              "      <td>76903.628763</td>\n",
              "      <td>11.913366</td>\n",
              "      <td>0.272263</td>\n",
              "      <td>655.000000</td>\n",
              "      <td>669.493442</td>\n",
              "      <td>25.611903</td>\n",
              "      <td>0.337841</td>\n",
              "    </tr>\n",
              "    <tr>\n",
              "      <th>75%</th>\n",
              "      <td>745475.250000</td>\n",
              "      <td>91032.514900</td>\n",
              "      <td>32.238914</td>\n",
              "      <td>0.459890</td>\n",
              "      <td>727.000000</td>\n",
              "      <td>730.484985</td>\n",
              "      <td>27.062519</td>\n",
              "      <td>0.624886</td>\n",
              "    </tr>\n",
              "    <tr>\n",
              "      <th>max</th>\n",
              "      <td>999870.000000</td>\n",
              "      <td>150538.809704</td>\n",
              "      <td>81.759632</td>\n",
              "      <td>1.144357</td>\n",
              "      <td>849.000000</td>\n",
              "      <td>1004.497869</td>\n",
              "      <td>30.131214</td>\n",
              "      <td>1.000000</td>\n",
              "    </tr>\n",
              "  </tbody>\n",
              "</table>\n",
              "</div>"
            ],
            "text/plain": [
              "         customer_id     est_income  ...  imp_crediteval    axio_score\n",
              "count   10000.000000   10000.000000  ...    10000.000000  10000.000000\n",
              "mean   496819.831400   65853.355259  ...       25.692162      0.393211\n",
              "std    287391.314157   31093.369592  ...        1.889274      0.288243\n",
              "min       244.000000       2.054543  ...       21.363123     -0.000052\n",
              "25%    245172.500000   39165.786086  ...       24.295435      0.139424\n",
              "50%    495734.000000   76903.628763  ...       25.611903      0.337841\n",
              "75%    745475.250000   91032.514900  ...       27.062519      0.624886\n",
              "max    999870.000000  150538.809704  ...       30.131214      1.000000\n",
              "\n",
              "[8 rows x 8 columns]"
            ]
          },
          "metadata": {
            "tags": []
          },
          "execution_count": 5
        }
      ]
    },
    {
      "cell_type": "code",
      "metadata": {
        "id": "H91pxVGVPEkD",
        "colab_type": "code",
        "colab": {}
      },
      "source": [
        "x=df.iloc[:,4:]"
      ],
      "execution_count": 0,
      "outputs": []
    },
    {
      "cell_type": "code",
      "metadata": {
        "id": "ZzsVXXoIPsW9",
        "colab_type": "code",
        "outputId": "7956496d-9c7a-4802-d824-faddc5f9570e",
        "colab": {
          "base_uri": "https://localhost:8080/",
          "height": 1000
        }
      },
      "source": [
        "x"
      ],
      "execution_count": 0,
      "outputs": [
        {
          "output_type": "execute_result",
          "data": {
            "text/html": [
              "<div>\n",
              "<style scoped>\n",
              "    .dataframe tbody tr th:only-of-type {\n",
              "        vertical-align: middle;\n",
              "    }\n",
              "\n",
              "    .dataframe tbody tr th {\n",
              "        vertical-align: top;\n",
              "    }\n",
              "\n",
              "    .dataframe thead th {\n",
              "        text-align: right;\n",
              "    }\n",
              "</style>\n",
              "<table border=\"1\" class=\"dataframe\">\n",
              "  <thead>\n",
              "    <tr style=\"text-align: right;\">\n",
              "      <th></th>\n",
              "      <th>est_income</th>\n",
              "      <th>hold_bal</th>\n",
              "      <th>pref_cust_prob</th>\n",
              "      <th>imp_cscore</th>\n",
              "      <th>RiskScore</th>\n",
              "      <th>imp_crediteval</th>\n",
              "      <th>axio_score</th>\n",
              "      <th>card_offer</th>\n",
              "    </tr>\n",
              "  </thead>\n",
              "  <tbody>\n",
              "    <tr>\n",
              "      <th>0</th>\n",
              "      <td>33407.901749</td>\n",
              "      <td>3.000000</td>\n",
              "      <td>0.531112</td>\n",
              "      <td>619</td>\n",
              "      <td>503.249027</td>\n",
              "      <td>23.977827</td>\n",
              "      <td>0.137289</td>\n",
              "      <td>False</td>\n",
              "    </tr>\n",
              "    <tr>\n",
              "      <th>1</th>\n",
              "      <td>19927.533533</td>\n",
              "      <td>20.257927</td>\n",
              "      <td>0.297439</td>\n",
              "      <td>527</td>\n",
              "      <td>820.108146</td>\n",
              "      <td>22.986398</td>\n",
              "      <td>0.052264</td>\n",
              "      <td>False</td>\n",
              "    </tr>\n",
              "    <tr>\n",
              "      <th>2</th>\n",
              "      <td>51222.470997</td>\n",
              "      <td>4.000000</td>\n",
              "      <td>0.018463</td>\n",
              "      <td>606</td>\n",
              "      <td>586.605795</td>\n",
              "      <td>24.939219</td>\n",
              "      <td>0.452035</td>\n",
              "      <td>False</td>\n",
              "    </tr>\n",
              "    <tr>\n",
              "      <th>3</th>\n",
              "      <td>67211.587467</td>\n",
              "      <td>18.653631</td>\n",
              "      <td>0.089344</td>\n",
              "      <td>585</td>\n",
              "      <td>634.701982</td>\n",
              "      <td>24.841147</td>\n",
              "      <td>0.564619</td>\n",
              "      <td>False</td>\n",
              "    </tr>\n",
              "    <tr>\n",
              "      <th>4</th>\n",
              "      <td>20093.342158</td>\n",
              "      <td>4.000000</td>\n",
              "      <td>0.094948</td>\n",
              "      <td>567</td>\n",
              "      <td>631.949979</td>\n",
              "      <td>24.679363</td>\n",
              "      <td>0.917304</td>\n",
              "      <td>False</td>\n",
              "    </tr>\n",
              "    <tr>\n",
              "      <th>5</th>\n",
              "      <td>73896.096129</td>\n",
              "      <td>12.906641</td>\n",
              "      <td>0.656848</td>\n",
              "      <td>560</td>\n",
              "      <td>809.333963</td>\n",
              "      <td>22.702967</td>\n",
              "      <td>0.198511</td>\n",
              "      <td>True</td>\n",
              "    </tr>\n",
              "    <tr>\n",
              "      <th>6</th>\n",
              "      <td>73609.404135</td>\n",
              "      <td>3.000000</td>\n",
              "      <td>0.137818</td>\n",
              "      <td>620</td>\n",
              "      <td>697.308163</td>\n",
              "      <td>24.271112</td>\n",
              "      <td>0.179141</td>\n",
              "      <td>False</td>\n",
              "    </tr>\n",
              "    <tr>\n",
              "      <th>7</th>\n",
              "      <td>57619.668582</td>\n",
              "      <td>9.000000</td>\n",
              "      <td>0.367879</td>\n",
              "      <td>658</td>\n",
              "      <td>668.075472</td>\n",
              "      <td>25.886646</td>\n",
              "      <td>0.035338</td>\n",
              "      <td>False</td>\n",
              "    </tr>\n",
              "    <tr>\n",
              "      <th>8</th>\n",
              "      <td>49282.620299</td>\n",
              "      <td>0.000000</td>\n",
              "      <td>0.182079</td>\n",
              "      <td>519</td>\n",
              "      <td>656.111591</td>\n",
              "      <td>21.838909</td>\n",
              "      <td>0.054130</td>\n",
              "      <td>False</td>\n",
              "    </tr>\n",
              "    <tr>\n",
              "      <th>9</th>\n",
              "      <td>57173.061392</td>\n",
              "      <td>6.000000</td>\n",
              "      <td>0.288242</td>\n",
              "      <td>645</td>\n",
              "      <td>547.767117</td>\n",
              "      <td>24.467187</td>\n",
              "      <td>0.648325</td>\n",
              "      <td>False</td>\n",
              "    </tr>\n",
              "    <tr>\n",
              "      <th>10</th>\n",
              "      <td>1216.414376</td>\n",
              "      <td>31.298468</td>\n",
              "      <td>0.654588</td>\n",
              "      <td>675</td>\n",
              "      <td>461.078568</td>\n",
              "      <td>25.968690</td>\n",
              "      <td>0.036855</td>\n",
              "      <td>False</td>\n",
              "    </tr>\n",
              "    <tr>\n",
              "      <th>11</th>\n",
              "      <td>60261.177983</td>\n",
              "      <td>9.000000</td>\n",
              "      <td>0.194342</td>\n",
              "      <td>519</td>\n",
              "      <td>792.416230</td>\n",
              "      <td>23.003769</td>\n",
              "      <td>0.265681</td>\n",
              "      <td>False</td>\n",
              "    </tr>\n",
              "    <tr>\n",
              "      <th>12</th>\n",
              "      <td>27898.799423</td>\n",
              "      <td>24.905444</td>\n",
              "      <td>0.230919</td>\n",
              "      <td>502</td>\n",
              "      <td>634.635789</td>\n",
              "      <td>23.066088</td>\n",
              "      <td>0.485769</td>\n",
              "      <td>False</td>\n",
              "    </tr>\n",
              "    <tr>\n",
              "      <th>13</th>\n",
              "      <td>72547.142358</td>\n",
              "      <td>2.000000</td>\n",
              "      <td>1.023351</td>\n",
              "      <td>602</td>\n",
              "      <td>615.330090</td>\n",
              "      <td>24.588480</td>\n",
              "      <td>0.195541</td>\n",
              "      <td>True</td>\n",
              "    </tr>\n",
              "    <tr>\n",
              "      <th>14</th>\n",
              "      <td>59967.222198</td>\n",
              "      <td>20.420941</td>\n",
              "      <td>0.679142</td>\n",
              "      <td>636</td>\n",
              "      <td>658.290618</td>\n",
              "      <td>24.398523</td>\n",
              "      <td>0.166274</td>\n",
              "      <td>True</td>\n",
              "    </tr>\n",
              "    <tr>\n",
              "      <th>15</th>\n",
              "      <td>76087.373180</td>\n",
              "      <td>23.117042</td>\n",
              "      <td>0.087857</td>\n",
              "      <td>616</td>\n",
              "      <td>779.514205</td>\n",
              "      <td>25.791707</td>\n",
              "      <td>0.356369</td>\n",
              "      <td>False</td>\n",
              "    </tr>\n",
              "    <tr>\n",
              "      <th>16</th>\n",
              "      <td>37578.924327</td>\n",
              "      <td>0.000000</td>\n",
              "      <td>0.136465</td>\n",
              "      <td>674</td>\n",
              "      <td>698.184426</td>\n",
              "      <td>25.253072</td>\n",
              "      <td>0.095863</td>\n",
              "      <td>False</td>\n",
              "    </tr>\n",
              "    <tr>\n",
              "      <th>17</th>\n",
              "      <td>51635.884160</td>\n",
              "      <td>14.823892</td>\n",
              "      <td>0.300891</td>\n",
              "      <td>610</td>\n",
              "      <td>721.803129</td>\n",
              "      <td>25.214316</td>\n",
              "      <td>0.697234</td>\n",
              "      <td>False</td>\n",
              "    </tr>\n",
              "    <tr>\n",
              "      <th>18</th>\n",
              "      <td>52403.172400</td>\n",
              "      <td>21.241172</td>\n",
              "      <td>0.487402</td>\n",
              "      <td>578</td>\n",
              "      <td>562.416660</td>\n",
              "      <td>23.890133</td>\n",
              "      <td>0.266037</td>\n",
              "      <td>False</td>\n",
              "    </tr>\n",
              "    <tr>\n",
              "      <th>19</th>\n",
              "      <td>59828.494850</td>\n",
              "      <td>12.512614</td>\n",
              "      <td>0.227978</td>\n",
              "      <td>571</td>\n",
              "      <td>790.733262</td>\n",
              "      <td>24.313272</td>\n",
              "      <td>0.603995</td>\n",
              "      <td>False</td>\n",
              "    </tr>\n",
              "    <tr>\n",
              "      <th>20</th>\n",
              "      <td>49041.784857</td>\n",
              "      <td>19.968726</td>\n",
              "      <td>0.133178</td>\n",
              "      <td>539</td>\n",
              "      <td>526.721687</td>\n",
              "      <td>24.199344</td>\n",
              "      <td>0.589410</td>\n",
              "      <td>False</td>\n",
              "    </tr>\n",
              "    <tr>\n",
              "      <th>21</th>\n",
              "      <td>27192.590487</td>\n",
              "      <td>2.000000</td>\n",
              "      <td>0.097245</td>\n",
              "      <td>639</td>\n",
              "      <td>765.364037</td>\n",
              "      <td>24.889112</td>\n",
              "      <td>0.222214</td>\n",
              "      <td>False</td>\n",
              "    </tr>\n",
              "    <tr>\n",
              "      <th>22</th>\n",
              "      <td>686.671107</td>\n",
              "      <td>26.359368</td>\n",
              "      <td>0.563717</td>\n",
              "      <td>508</td>\n",
              "      <td>704.535958</td>\n",
              "      <td>21.538761</td>\n",
              "      <td>0.377972</td>\n",
              "      <td>False</td>\n",
              "    </tr>\n",
              "    <tr>\n",
              "      <th>23</th>\n",
              "      <td>25136.733223</td>\n",
              "      <td>15.647589</td>\n",
              "      <td>0.415841</td>\n",
              "      <td>520</td>\n",
              "      <td>746.024918</td>\n",
              "      <td>22.441192</td>\n",
              "      <td>0.011082</td>\n",
              "      <td>False</td>\n",
              "    </tr>\n",
              "    <tr>\n",
              "      <th>24</th>\n",
              "      <td>25689.870566</td>\n",
              "      <td>23.824669</td>\n",
              "      <td>0.164897</td>\n",
              "      <td>539</td>\n",
              "      <td>649.783554</td>\n",
              "      <td>22.309315</td>\n",
              "      <td>0.670423</td>\n",
              "      <td>False</td>\n",
              "    </tr>\n",
              "    <tr>\n",
              "      <th>25</th>\n",
              "      <td>18971.079880</td>\n",
              "      <td>12.439547</td>\n",
              "      <td>0.864700</td>\n",
              "      <td>541</td>\n",
              "      <td>710.603249</td>\n",
              "      <td>22.520557</td>\n",
              "      <td>0.449148</td>\n",
              "      <td>False</td>\n",
              "    </tr>\n",
              "    <tr>\n",
              "      <th>26</th>\n",
              "      <td>23650.339785</td>\n",
              "      <td>16.425283</td>\n",
              "      <td>0.274741</td>\n",
              "      <td>532</td>\n",
              "      <td>707.209276</td>\n",
              "      <td>22.116934</td>\n",
              "      <td>0.111252</td>\n",
              "      <td>False</td>\n",
              "    </tr>\n",
              "    <tr>\n",
              "      <th>27</th>\n",
              "      <td>21090.811814</td>\n",
              "      <td>25.761634</td>\n",
              "      <td>0.597640</td>\n",
              "      <td>692</td>\n",
              "      <td>636.070344</td>\n",
              "      <td>26.824694</td>\n",
              "      <td>0.032765</td>\n",
              "      <td>False</td>\n",
              "    </tr>\n",
              "    <tr>\n",
              "      <th>28</th>\n",
              "      <td>52850.844603</td>\n",
              "      <td>3.000000</td>\n",
              "      <td>0.509505</td>\n",
              "      <td>510</td>\n",
              "      <td>584.441169</td>\n",
              "      <td>23.141927</td>\n",
              "      <td>0.287734</td>\n",
              "      <td>False</td>\n",
              "    </tr>\n",
              "    <tr>\n",
              "      <th>29</th>\n",
              "      <td>68383.430086</td>\n",
              "      <td>17.248453</td>\n",
              "      <td>0.524179</td>\n",
              "      <td>524</td>\n",
              "      <td>478.225485</td>\n",
              "      <td>23.758966</td>\n",
              "      <td>0.121610</td>\n",
              "      <td>False</td>\n",
              "    </tr>\n",
              "    <tr>\n",
              "      <th>...</th>\n",
              "      <td>...</td>\n",
              "      <td>...</td>\n",
              "      <td>...</td>\n",
              "      <td>...</td>\n",
              "      <td>...</td>\n",
              "      <td>...</td>\n",
              "      <td>...</td>\n",
              "      <td>...</td>\n",
              "    </tr>\n",
              "    <tr>\n",
              "      <th>9970</th>\n",
              "      <td>81157.695501</td>\n",
              "      <td>52.507755</td>\n",
              "      <td>0.045241</td>\n",
              "      <td>678</td>\n",
              "      <td>636.506789</td>\n",
              "      <td>26.510734</td>\n",
              "      <td>0.348946</td>\n",
              "      <td>False</td>\n",
              "    </tr>\n",
              "    <tr>\n",
              "      <th>9971</th>\n",
              "      <td>105195.629555</td>\n",
              "      <td>8.063897</td>\n",
              "      <td>0.506366</td>\n",
              "      <td>665</td>\n",
              "      <td>506.251975</td>\n",
              "      <td>25.101713</td>\n",
              "      <td>0.139331</td>\n",
              "      <td>True</td>\n",
              "    </tr>\n",
              "    <tr>\n",
              "      <th>9972</th>\n",
              "      <td>90851.478242</td>\n",
              "      <td>3.489716</td>\n",
              "      <td>0.071774</td>\n",
              "      <td>825</td>\n",
              "      <td>774.972410</td>\n",
              "      <td>29.424891</td>\n",
              "      <td>0.953946</td>\n",
              "      <td>False</td>\n",
              "    </tr>\n",
              "    <tr>\n",
              "      <th>9973</th>\n",
              "      <td>82982.879652</td>\n",
              "      <td>7.515535</td>\n",
              "      <td>0.636306</td>\n",
              "      <td>788</td>\n",
              "      <td>673.747843</td>\n",
              "      <td>28.874445</td>\n",
              "      <td>0.623012</td>\n",
              "      <td>True</td>\n",
              "    </tr>\n",
              "    <tr>\n",
              "      <th>9974</th>\n",
              "      <td>94894.135941</td>\n",
              "      <td>48.172168</td>\n",
              "      <td>0.106232</td>\n",
              "      <td>621</td>\n",
              "      <td>653.460240</td>\n",
              "      <td>23.919916</td>\n",
              "      <td>0.304972</td>\n",
              "      <td>False</td>\n",
              "    </tr>\n",
              "    <tr>\n",
              "      <th>9975</th>\n",
              "      <td>91734.390244</td>\n",
              "      <td>4.744908</td>\n",
              "      <td>0.512391</td>\n",
              "      <td>737</td>\n",
              "      <td>678.560142</td>\n",
              "      <td>28.146479</td>\n",
              "      <td>0.402929</td>\n",
              "      <td>False</td>\n",
              "    </tr>\n",
              "    <tr>\n",
              "      <th>9976</th>\n",
              "      <td>91600.548684</td>\n",
              "      <td>4.788151</td>\n",
              "      <td>0.296586</td>\n",
              "      <td>772</td>\n",
              "      <td>559.014770</td>\n",
              "      <td>27.245930</td>\n",
              "      <td>0.006507</td>\n",
              "      <td>False</td>\n",
              "    </tr>\n",
              "    <tr>\n",
              "      <th>9977</th>\n",
              "      <td>93929.742437</td>\n",
              "      <td>9.319015</td>\n",
              "      <td>0.524672</td>\n",
              "      <td>694</td>\n",
              "      <td>594.520409</td>\n",
              "      <td>25.744672</td>\n",
              "      <td>0.362386</td>\n",
              "      <td>True</td>\n",
              "    </tr>\n",
              "    <tr>\n",
              "      <th>9978</th>\n",
              "      <td>76124.001962</td>\n",
              "      <td>5.981027</td>\n",
              "      <td>0.083821</td>\n",
              "      <td>794</td>\n",
              "      <td>574.923828</td>\n",
              "      <td>29.159884</td>\n",
              "      <td>0.875726</td>\n",
              "      <td>False</td>\n",
              "    </tr>\n",
              "    <tr>\n",
              "      <th>9979</th>\n",
              "      <td>100920.817298</td>\n",
              "      <td>58.408176</td>\n",
              "      <td>0.358121</td>\n",
              "      <td>613</td>\n",
              "      <td>595.250947</td>\n",
              "      <td>24.089984</td>\n",
              "      <td>0.138613</td>\n",
              "      <td>False</td>\n",
              "    </tr>\n",
              "    <tr>\n",
              "      <th>9980</th>\n",
              "      <td>80305.932413</td>\n",
              "      <td>9.478119</td>\n",
              "      <td>0.702653</td>\n",
              "      <td>619</td>\n",
              "      <td>652.887864</td>\n",
              "      <td>23.881336</td>\n",
              "      <td>0.820176</td>\n",
              "      <td>True</td>\n",
              "    </tr>\n",
              "    <tr>\n",
              "      <th>9981</th>\n",
              "      <td>112116.481755</td>\n",
              "      <td>2.930996</td>\n",
              "      <td>0.328856</td>\n",
              "      <td>710</td>\n",
              "      <td>568.600612</td>\n",
              "      <td>27.215225</td>\n",
              "      <td>0.446321</td>\n",
              "      <td>False</td>\n",
              "    </tr>\n",
              "    <tr>\n",
              "      <th>9982</th>\n",
              "      <td>88572.634801</td>\n",
              "      <td>56.414848</td>\n",
              "      <td>0.073322</td>\n",
              "      <td>637</td>\n",
              "      <td>689.083732</td>\n",
              "      <td>25.561118</td>\n",
              "      <td>0.039483</td>\n",
              "      <td>False</td>\n",
              "    </tr>\n",
              "    <tr>\n",
              "      <th>9983</th>\n",
              "      <td>83481.650131</td>\n",
              "      <td>34.662845</td>\n",
              "      <td>0.060051</td>\n",
              "      <td>845</td>\n",
              "      <td>553.565857</td>\n",
              "      <td>28.123642</td>\n",
              "      <td>0.408835</td>\n",
              "      <td>False</td>\n",
              "    </tr>\n",
              "    <tr>\n",
              "      <th>9984</th>\n",
              "      <td>87057.488636</td>\n",
              "      <td>5.596464</td>\n",
              "      <td>0.387674</td>\n",
              "      <td>682</td>\n",
              "      <td>696.050969</td>\n",
              "      <td>25.612993</td>\n",
              "      <td>0.023347</td>\n",
              "      <td>False</td>\n",
              "    </tr>\n",
              "    <tr>\n",
              "      <th>9985</th>\n",
              "      <td>95895.124196</td>\n",
              "      <td>50.838859</td>\n",
              "      <td>0.059625</td>\n",
              "      <td>665</td>\n",
              "      <td>703.140953</td>\n",
              "      <td>24.802862</td>\n",
              "      <td>0.070274</td>\n",
              "      <td>False</td>\n",
              "    </tr>\n",
              "    <tr>\n",
              "      <th>9986</th>\n",
              "      <td>88412.358413</td>\n",
              "      <td>21.292231</td>\n",
              "      <td>0.187607</td>\n",
              "      <td>674</td>\n",
              "      <td>753.139111</td>\n",
              "      <td>25.014650</td>\n",
              "      <td>0.069342</td>\n",
              "      <td>False</td>\n",
              "    </tr>\n",
              "    <tr>\n",
              "      <th>9987</th>\n",
              "      <td>104137.552343</td>\n",
              "      <td>34.108244</td>\n",
              "      <td>0.675670</td>\n",
              "      <td>786</td>\n",
              "      <td>603.000389</td>\n",
              "      <td>27.041973</td>\n",
              "      <td>0.000092</td>\n",
              "      <td>True</td>\n",
              "    </tr>\n",
              "    <tr>\n",
              "      <th>9988</th>\n",
              "      <td>66621.107615</td>\n",
              "      <td>1.985167</td>\n",
              "      <td>0.036606</td>\n",
              "      <td>641</td>\n",
              "      <td>762.501010</td>\n",
              "      <td>24.635524</td>\n",
              "      <td>0.343362</td>\n",
              "      <td>False</td>\n",
              "    </tr>\n",
              "    <tr>\n",
              "      <th>9989</th>\n",
              "      <td>83919.511738</td>\n",
              "      <td>8.856743</td>\n",
              "      <td>0.483403</td>\n",
              "      <td>695</td>\n",
              "      <td>571.662997</td>\n",
              "      <td>27.193961</td>\n",
              "      <td>0.517455</td>\n",
              "      <td>False</td>\n",
              "    </tr>\n",
              "    <tr>\n",
              "      <th>9990</th>\n",
              "      <td>79112.898407</td>\n",
              "      <td>64.196983</td>\n",
              "      <td>0.085506</td>\n",
              "      <td>652</td>\n",
              "      <td>698.438683</td>\n",
              "      <td>24.804324</td>\n",
              "      <td>0.285532</td>\n",
              "      <td>False</td>\n",
              "    </tr>\n",
              "    <tr>\n",
              "      <th>9991</th>\n",
              "      <td>88049.202017</td>\n",
              "      <td>48.266014</td>\n",
              "      <td>0.197894</td>\n",
              "      <td>679</td>\n",
              "      <td>742.528069</td>\n",
              "      <td>26.115809</td>\n",
              "      <td>0.370026</td>\n",
              "      <td>False</td>\n",
              "    </tr>\n",
              "    <tr>\n",
              "      <th>9992</th>\n",
              "      <td>88672.788122</td>\n",
              "      <td>33.875014</td>\n",
              "      <td>0.280511</td>\n",
              "      <td>767</td>\n",
              "      <td>809.617843</td>\n",
              "      <td>26.743421</td>\n",
              "      <td>0.465418</td>\n",
              "      <td>False</td>\n",
              "    </tr>\n",
              "    <tr>\n",
              "      <th>9993</th>\n",
              "      <td>93959.360719</td>\n",
              "      <td>4.934012</td>\n",
              "      <td>0.273224</td>\n",
              "      <td>669</td>\n",
              "      <td>432.148495</td>\n",
              "      <td>26.270807</td>\n",
              "      <td>0.074517</td>\n",
              "      <td>False</td>\n",
              "    </tr>\n",
              "    <tr>\n",
              "      <th>9994</th>\n",
              "      <td>111441.754140</td>\n",
              "      <td>5.692845</td>\n",
              "      <td>0.057193</td>\n",
              "      <td>688</td>\n",
              "      <td>543.255566</td>\n",
              "      <td>25.632660</td>\n",
              "      <td>0.141778</td>\n",
              "      <td>False</td>\n",
              "    </tr>\n",
              "    <tr>\n",
              "      <th>9995</th>\n",
              "      <td>72212.336133</td>\n",
              "      <td>9.592934</td>\n",
              "      <td>0.520371</td>\n",
              "      <td>729</td>\n",
              "      <td>757.494653</td>\n",
              "      <td>26.021340</td>\n",
              "      <td>0.337363</td>\n",
              "      <td>False</td>\n",
              "    </tr>\n",
              "    <tr>\n",
              "      <th>9996</th>\n",
              "      <td>90497.218026</td>\n",
              "      <td>59.521970</td>\n",
              "      <td>0.225221</td>\n",
              "      <td>680</td>\n",
              "      <td>734.066443</td>\n",
              "      <td>26.965962</td>\n",
              "      <td>0.030833</td>\n",
              "      <td>False</td>\n",
              "    </tr>\n",
              "    <tr>\n",
              "      <th>9997</th>\n",
              "      <td>79895.772666</td>\n",
              "      <td>44.698361</td>\n",
              "      <td>0.441161</td>\n",
              "      <td>806</td>\n",
              "      <td>703.556659</td>\n",
              "      <td>27.397851</td>\n",
              "      <td>0.399311</td>\n",
              "      <td>True</td>\n",
              "    </tr>\n",
              "    <tr>\n",
              "      <th>9998</th>\n",
              "      <td>90628.734407</td>\n",
              "      <td>45.757132</td>\n",
              "      <td>0.146398</td>\n",
              "      <td>619</td>\n",
              "      <td>744.723237</td>\n",
              "      <td>24.670500</td>\n",
              "      <td>0.591272</td>\n",
              "      <td>False</td>\n",
              "    </tr>\n",
              "    <tr>\n",
              "      <th>9999</th>\n",
              "      <td>85069.799184</td>\n",
              "      <td>52.880255</td>\n",
              "      <td>0.236454</td>\n",
              "      <td>718</td>\n",
              "      <td>514.474908</td>\n",
              "      <td>27.045362</td>\n",
              "      <td>0.318503</td>\n",
              "      <td>False</td>\n",
              "    </tr>\n",
              "  </tbody>\n",
              "</table>\n",
              "<p>10000 rows × 8 columns</p>\n",
              "</div>"
            ],
            "text/plain": [
              "         est_income   hold_bal  ...  axio_score  card_offer\n",
              "0      33407.901749   3.000000  ...    0.137289       False\n",
              "1      19927.533533  20.257927  ...    0.052264       False\n",
              "2      51222.470997   4.000000  ...    0.452035       False\n",
              "3      67211.587467  18.653631  ...    0.564619       False\n",
              "4      20093.342158   4.000000  ...    0.917304       False\n",
              "5      73896.096129  12.906641  ...    0.198511        True\n",
              "6      73609.404135   3.000000  ...    0.179141       False\n",
              "7      57619.668582   9.000000  ...    0.035338       False\n",
              "8      49282.620299   0.000000  ...    0.054130       False\n",
              "9      57173.061392   6.000000  ...    0.648325       False\n",
              "10      1216.414376  31.298468  ...    0.036855       False\n",
              "11     60261.177983   9.000000  ...    0.265681       False\n",
              "12     27898.799423  24.905444  ...    0.485769       False\n",
              "13     72547.142358   2.000000  ...    0.195541        True\n",
              "14     59967.222198  20.420941  ...    0.166274        True\n",
              "15     76087.373180  23.117042  ...    0.356369       False\n",
              "16     37578.924327   0.000000  ...    0.095863       False\n",
              "17     51635.884160  14.823892  ...    0.697234       False\n",
              "18     52403.172400  21.241172  ...    0.266037       False\n",
              "19     59828.494850  12.512614  ...    0.603995       False\n",
              "20     49041.784857  19.968726  ...    0.589410       False\n",
              "21     27192.590487   2.000000  ...    0.222214       False\n",
              "22       686.671107  26.359368  ...    0.377972       False\n",
              "23     25136.733223  15.647589  ...    0.011082       False\n",
              "24     25689.870566  23.824669  ...    0.670423       False\n",
              "25     18971.079880  12.439547  ...    0.449148       False\n",
              "26     23650.339785  16.425283  ...    0.111252       False\n",
              "27     21090.811814  25.761634  ...    0.032765       False\n",
              "28     52850.844603   3.000000  ...    0.287734       False\n",
              "29     68383.430086  17.248453  ...    0.121610       False\n",
              "...             ...        ...  ...         ...         ...\n",
              "9970   81157.695501  52.507755  ...    0.348946       False\n",
              "9971  105195.629555   8.063897  ...    0.139331        True\n",
              "9972   90851.478242   3.489716  ...    0.953946       False\n",
              "9973   82982.879652   7.515535  ...    0.623012        True\n",
              "9974   94894.135941  48.172168  ...    0.304972       False\n",
              "9975   91734.390244   4.744908  ...    0.402929       False\n",
              "9976   91600.548684   4.788151  ...    0.006507       False\n",
              "9977   93929.742437   9.319015  ...    0.362386        True\n",
              "9978   76124.001962   5.981027  ...    0.875726       False\n",
              "9979  100920.817298  58.408176  ...    0.138613       False\n",
              "9980   80305.932413   9.478119  ...    0.820176        True\n",
              "9981  112116.481755   2.930996  ...    0.446321       False\n",
              "9982   88572.634801  56.414848  ...    0.039483       False\n",
              "9983   83481.650131  34.662845  ...    0.408835       False\n",
              "9984   87057.488636   5.596464  ...    0.023347       False\n",
              "9985   95895.124196  50.838859  ...    0.070274       False\n",
              "9986   88412.358413  21.292231  ...    0.069342       False\n",
              "9987  104137.552343  34.108244  ...    0.000092        True\n",
              "9988   66621.107615   1.985167  ...    0.343362       False\n",
              "9989   83919.511738   8.856743  ...    0.517455       False\n",
              "9990   79112.898407  64.196983  ...    0.285532       False\n",
              "9991   88049.202017  48.266014  ...    0.370026       False\n",
              "9992   88672.788122  33.875014  ...    0.465418       False\n",
              "9993   93959.360719   4.934012  ...    0.074517       False\n",
              "9994  111441.754140   5.692845  ...    0.141778       False\n",
              "9995   72212.336133   9.592934  ...    0.337363       False\n",
              "9996   90497.218026  59.521970  ...    0.030833       False\n",
              "9997   79895.772666  44.698361  ...    0.399311        True\n",
              "9998   90628.734407  45.757132  ...    0.591272       False\n",
              "9999   85069.799184  52.880255  ...    0.318503       False\n",
              "\n",
              "[10000 rows x 8 columns]"
            ]
          },
          "metadata": {
            "tags": []
          },
          "execution_count": 7
        }
      ]
    },
    {
      "cell_type": "code",
      "metadata": {
        "id": "iUuP_c9rPtcb",
        "colab_type": "code",
        "outputId": "1b0ffea6-6364-44c8-d561-a5cc58983c45",
        "colab": {
          "base_uri": "https://localhost:8080/",
          "height": 238
        }
      },
      "source": [
        "# now take only values of given data\n",
        "x=df.iloc[:,4:].values\n",
        "x"
      ],
      "execution_count": 0,
      "outputs": [
        {
          "output_type": "execute_result",
          "data": {
            "text/plain": [
              "array([[33407.9017494479, 3.0, 0.531112279582307, ..., 23.9778269846522,\n",
              "        0.137288792023524, False],\n",
              "       [19927.5335325969, 20.257926798639698, 0.297438730118974, ...,\n",
              "        22.9863977296961, 0.0522636193746206, False],\n",
              "       [51222.4709966965, 4.0, 0.0184630751771727, ..., 24.9392188121553,\n",
              "        0.45203457601049396, False],\n",
              "       ...,\n",
              "       [79895.7726659325, 44.6983611228735, 0.441160567931599, ...,\n",
              "        27.3978512075035, 0.399311164207229, True],\n",
              "       [90628.73440669029, 45.7571318790147, 0.146398107142468, ...,\n",
              "        24.670500175609103, 0.591272211680188, False],\n",
              "       [85069.7991836868, 52.8802552363374, 0.236453996001977, ...,\n",
              "        27.045361704691402, 0.318503198647767, False]], dtype=object)"
            ]
          },
          "metadata": {
            "tags": []
          },
          "execution_count": 8
        }
      ]
    },
    {
      "cell_type": "code",
      "metadata": {
        "id": "KaK6EeT_P8gu",
        "colab_type": "code",
        "colab": {}
      },
      "source": [
        "# as per rule we have to remove null value if any in the data by any standerd value \n",
        "# here i am replacing nan with value of perticuler column\n",
        "from sklearn.preprocessing import Imputer"
      ],
      "execution_count": 0,
      "outputs": []
    },
    {
      "cell_type": "code",
      "metadata": {
        "id": "ARazL1CHQw3c",
        "colab_type": "code",
        "outputId": "c9d8d402-d68b-4edd-fdba-002428918842",
        "colab": {
          "base_uri": "https://localhost:8080/",
          "height": 71
        }
      },
      "source": [
        "imp=Imputer(missing_values='NaN',axis=0,strategy='mean')"
      ],
      "execution_count": 0,
      "outputs": [
        {
          "output_type": "stream",
          "text": [
            "/usr/local/lib/python3.6/dist-packages/sklearn/utils/deprecation.py:66: DeprecationWarning: Class Imputer is deprecated; Imputer was deprecated in version 0.20 and will be removed in 0.22. Import impute.SimpleImputer from sklearn instead.\n",
            "  warnings.warn(msg, category=DeprecationWarning)\n"
          ],
          "name": "stderr"
        }
      ]
    },
    {
      "cell_type": "code",
      "metadata": {
        "id": "yGmrSrY3Q93X",
        "colab_type": "code",
        "colab": {}
      },
      "source": [
        "impute=imp.fit(x[:,4:])"
      ],
      "execution_count": 0,
      "outputs": []
    },
    {
      "cell_type": "code",
      "metadata": {
        "id": "21PJD_RURGRe",
        "colab_type": "code",
        "colab": {}
      },
      "source": [
        "x[:,4:]=impute.transform(x[:,4:])"
      ],
      "execution_count": 0,
      "outputs": []
    },
    {
      "cell_type": "code",
      "metadata": {
        "id": "sj-DVrckRPUb",
        "colab_type": "code",
        "outputId": "d8c826c8-aa57-49cb-ba47-9f0c318c453d",
        "colab": {
          "base_uri": "https://localhost:8080/",
          "height": 238
        }
      },
      "source": [
        "x"
      ],
      "execution_count": 0,
      "outputs": [
        {
          "output_type": "execute_result",
          "data": {
            "text/plain": [
              "array([[33407.9017494479, 3.0, 0.531112279582307, ..., 23.9778269846522,\n",
              "        0.137288792023524, 0.0],\n",
              "       [19927.5335325969, 20.257926798639698, 0.297438730118974, ...,\n",
              "        22.9863977296961, 0.0522636193746206, 0.0],\n",
              "       [51222.4709966965, 4.0, 0.0184630751771727, ..., 24.9392188121553,\n",
              "        0.45203457601049396, 0.0],\n",
              "       ...,\n",
              "       [79895.7726659325, 44.6983611228735, 0.441160567931599, ...,\n",
              "        27.3978512075035, 0.399311164207229, 1.0],\n",
              "       [90628.73440669029, 45.7571318790147, 0.146398107142468, ...,\n",
              "        24.670500175609103, 0.591272211680188, 0.0],\n",
              "       [85069.7991836868, 52.8802552363374, 0.236453996001977, ...,\n",
              "        27.045361704691402, 0.318503198647767, 0.0]], dtype=object)"
            ]
          },
          "metadata": {
            "tags": []
          },
          "execution_count": 13
        }
      ]
    },
    {
      "cell_type": "code",
      "metadata": {
        "id": "thS6lx_QRQJ-",
        "colab_type": "code",
        "colab": {}
      },
      "source": [
        "from sklearn.preprocessing import LabelEncoder"
      ],
      "execution_count": 0,
      "outputs": []
    },
    {
      "cell_type": "code",
      "metadata": {
        "id": "5HRHQ8MkRdY-",
        "colab_type": "code",
        "colab": {}
      },
      "source": [
        "p=LabelEncoder()"
      ],
      "execution_count": 0,
      "outputs": []
    },
    {
      "cell_type": "code",
      "metadata": {
        "id": "dPnQBFnERjIH",
        "colab_type": "code",
        "colab": {}
      },
      "source": [
        "x[:,7]=p.fit_transform(x[:,7])"
      ],
      "execution_count": 0,
      "outputs": []
    },
    {
      "cell_type": "code",
      "metadata": {
        "id": "1YfiTgi8SBjC",
        "colab_type": "code",
        "outputId": "a5c22430-e527-4dd2-9842-b06ae9f72106",
        "colab": {
          "base_uri": "https://localhost:8080/",
          "height": 238
        }
      },
      "source": [
        "x"
      ],
      "execution_count": 0,
      "outputs": [
        {
          "output_type": "execute_result",
          "data": {
            "text/plain": [
              "array([[33407.9017494479, 3.0, 0.531112279582307, ..., 23.9778269846522,\n",
              "        0.137288792023524, 0],\n",
              "       [19927.5335325969, 20.257926798639698, 0.297438730118974, ...,\n",
              "        22.9863977296961, 0.0522636193746206, 0],\n",
              "       [51222.4709966965, 4.0, 0.0184630751771727, ..., 24.9392188121553,\n",
              "        0.45203457601049396, 0],\n",
              "       ...,\n",
              "       [79895.7726659325, 44.6983611228735, 0.441160567931599, ...,\n",
              "        27.3978512075035, 0.399311164207229, 1],\n",
              "       [90628.73440669029, 45.7571318790147, 0.146398107142468, ...,\n",
              "        24.670500175609103, 0.591272211680188, 0],\n",
              "       [85069.7991836868, 52.8802552363374, 0.236453996001977, ...,\n",
              "        27.045361704691402, 0.318503198647767, 0]], dtype=object)"
            ]
          },
          "metadata": {
            "tags": []
          },
          "execution_count": 17
        }
      ]
    },
    {
      "cell_type": "code",
      "metadata": {
        "id": "Rwd8NOIcSCK5",
        "colab_type": "code",
        "colab": {}
      },
      "source": [
        "features=x[:,0:7]"
      ],
      "execution_count": 0,
      "outputs": []
    },
    {
      "cell_type": "code",
      "metadata": {
        "id": "EbqPPNg-TDyq",
        "colab_type": "code",
        "outputId": "ef1fdf5d-8d1d-4f27-fdab-e1b13a73233f",
        "colab": {
          "base_uri": "https://localhost:8080/",
          "height": 255
        }
      },
      "source": [
        "features"
      ],
      "execution_count": 0,
      "outputs": [
        {
          "output_type": "execute_result",
          "data": {
            "text/plain": [
              "array([[33407.9017494479, 3.0, 0.531112279582307, ..., 503.249027297784,\n",
              "        23.9778269846522, 0.137288792023524],\n",
              "       [19927.5335325969, 20.257926798639698, 0.297438730118974, ...,\n",
              "        820.1081464055161, 22.9863977296961, 0.0522636193746206],\n",
              "       [51222.4709966965, 4.0, 0.0184630751771727, ...,\n",
              "        586.6057945131221, 24.9392188121553, 0.45203457601049396],\n",
              "       ...,\n",
              "       [79895.7726659325, 44.6983611228735, 0.441160567931599, ...,\n",
              "        703.556658640237, 27.3978512075035, 0.399311164207229],\n",
              "       [90628.73440669029, 45.7571318790147, 0.146398107142468, ...,\n",
              "        744.723237441309, 24.670500175609103, 0.591272211680188],\n",
              "       [85069.7991836868, 52.8802552363374, 0.236453996001977, ...,\n",
              "        514.474907943461, 27.045361704691402, 0.318503198647767]],\n",
              "      dtype=object)"
            ]
          },
          "metadata": {
            "tags": []
          },
          "execution_count": 19
        }
      ]
    },
    {
      "cell_type": "code",
      "metadata": {
        "id": "O2HZHFJ5TY7O",
        "colab_type": "code",
        "colab": {}
      },
      "source": [
        "label=x[0:,7]"
      ],
      "execution_count": 0,
      "outputs": []
    },
    {
      "cell_type": "code",
      "metadata": {
        "id": "TtGBT6TwTl5P",
        "colab_type": "code",
        "outputId": "40409246-7096-4acb-ccb5-cabfd195383f",
        "colab": {
          "base_uri": "https://localhost:8080/",
          "height": 34
        }
      },
      "source": [
        "label"
      ],
      "execution_count": 0,
      "outputs": [
        {
          "output_type": "execute_result",
          "data": {
            "text/plain": [
              "array([0, 0, 0, ..., 1, 0, 0], dtype=object)"
            ]
          },
          "metadata": {
            "tags": []
          },
          "execution_count": 21
        }
      ]
    },
    {
      "cell_type": "code",
      "metadata": {
        "id": "UHLYd0UVTnOk",
        "colab_type": "code",
        "colab": {}
      },
      "source": [
        "from sklearn.model_selection import train_test_split"
      ],
      "execution_count": 0,
      "outputs": []
    },
    {
      "cell_type": "code",
      "metadata": {
        "id": "BRxnXw_QTumw",
        "colab_type": "code",
        "colab": {}
      },
      "source": [
        "X,x,Y,y=train_test_split(features,label,test_size=0.25)"
      ],
      "execution_count": 0,
      "outputs": []
    },
    {
      "cell_type": "code",
      "metadata": {
        "id": "03ogKSVJT4Bm",
        "colab_type": "code",
        "colab": {}
      },
      "source": [
        "# now applying feature scaling\n",
        "from sklearn.preprocessing import StandardScaler"
      ],
      "execution_count": 0,
      "outputs": []
    },
    {
      "cell_type": "code",
      "metadata": {
        "id": "BnMaBjMHUVKH",
        "colab_type": "code",
        "colab": {}
      },
      "source": [
        "sc=StandardScaler()"
      ],
      "execution_count": 0,
      "outputs": []
    },
    {
      "cell_type": "code",
      "metadata": {
        "id": "rbGgz4tOUbsf",
        "colab_type": "code",
        "colab": {}
      },
      "source": [
        "# applying scling in training data only\n",
        "X=sc.fit_transform(X)"
      ],
      "execution_count": 0,
      "outputs": []
    },
    {
      "cell_type": "code",
      "metadata": {
        "id": "7udmnjE8UkkX",
        "colab_type": "code",
        "colab": {}
      },
      "source": [
        "# testing data scaling\n",
        "x=sc.transform(x)"
      ],
      "execution_count": 0,
      "outputs": []
    },
    {
      "cell_type": "code",
      "metadata": {
        "id": "fDhyhufeZBsj",
        "colab_type": "code",
        "colab": {}
      },
      "source": [
        "Y=Y.astype('int')\n",
        "y=y.astype('int')"
      ],
      "execution_count": 0,
      "outputs": []
    },
    {
      "cell_type": "code",
      "metadata": {
        "id": "u-9rNoiUUzrc",
        "colab_type": "code",
        "colab": {}
      },
      "source": [
        "from sklearn.ensemble import RandomForestClassifier\n",
        "from sklearn.metrics import accuracy_score"
      ],
      "execution_count": 0,
      "outputs": []
    },
    {
      "cell_type": "code",
      "metadata": {
        "id": "OtwiLbmZVNVx",
        "colab_type": "code",
        "colab": {}
      },
      "source": [
        "rclf=RandomForestClassifier(n_estimators=20 )"
      ],
      "execution_count": 0,
      "outputs": []
    },
    {
      "cell_type": "code",
      "metadata": {
        "id": "it-_WZE5Vmq8",
        "colab_type": "code",
        "colab": {}
      },
      "source": [
        "train=rclf.fit(X,Y)"
      ],
      "execution_count": 0,
      "outputs": []
    },
    {
      "cell_type": "code",
      "metadata": {
        "id": "LYJmV7OtVT_p",
        "colab_type": "code",
        "colab": {}
      },
      "source": [
        "pred=train.predict(x)"
      ],
      "execution_count": 0,
      "outputs": []
    },
    {
      "cell_type": "code",
      "metadata": {
        "id": "TJxhIqP_VcaF",
        "colab_type": "code",
        "outputId": "2f7f3208-d6b1-4ae4-c743-72287175a5f1",
        "colab": {
          "base_uri": "https://localhost:8080/",
          "height": 34
        }
      },
      "source": [
        "pred"
      ],
      "execution_count": 0,
      "outputs": [
        {
          "output_type": "execute_result",
          "data": {
            "text/plain": [
              "array([0, 0, 1, ..., 0, 1, 1])"
            ]
          },
          "metadata": {
            "tags": []
          },
          "execution_count": 33
        }
      ]
    },
    {
      "cell_type": "code",
      "metadata": {
        "id": "-fZUj9ZCZUVH",
        "colab_type": "code",
        "outputId": "bdf8fa81-d6eb-4410-c084-bdbe6c0f4a63",
        "colab": {
          "base_uri": "https://localhost:8080/",
          "height": 34
        }
      },
      "source": [
        "accuracy_score(y,pred)"
      ],
      "execution_count": 0,
      "outputs": [
        {
          "output_type": "execute_result",
          "data": {
            "text/plain": [
              "0.9764"
            ]
          },
          "metadata": {
            "tags": []
          },
          "execution_count": 34
        }
      ]
    },
    {
      "cell_type": "code",
      "metadata": {
        "id": "XmU5ODwLZlm4",
        "colab_type": "code",
        "outputId": "7e4398a5-5392-4039-8e24-71d136bf78ca",
        "colab": {
          "base_uri": "https://localhost:8080/",
          "height": 34
        }
      },
      "source": [
        "# test with your data\n",
        "train.predict(sc.transform([[79895.772666, 44.698361, 0.441161, 806, 703.556659,27.397851,0.399311]]))"
      ],
      "execution_count": 0,
      "outputs": [
        {
          "output_type": "execute_result",
          "data": {
            "text/plain": [
              "array([1])"
            ]
          },
          "metadata": {
            "tags": []
          },
          "execution_count": 35
        }
      ]
    },
    {
      "cell_type": "code",
      "metadata": {
        "id": "XaysYc_TZ8nG",
        "colab_type": "code",
        "colab": {}
      },
      "source": [
        "\t# you can try with different ml algorithem like decissiontree, K-nn, and many more\n",
        "  \n",
        "  #thnaks"
      ],
      "execution_count": 0,
      "outputs": []
    },
    {
      "cell_type": "markdown",
      "metadata": {
        "id": "9m9s1Zbub8Ax",
        "colab_type": "text"
      },
      "source": [
        "## happy coding"
      ]
    },
    {
      "cell_type": "code",
      "metadata": {
        "id": "wdsW_CuWbnyu",
        "colab_type": "code",
        "colab": {}
      },
      "source": [
        ""
      ],
      "execution_count": 0,
      "outputs": []
    }
  ]
}