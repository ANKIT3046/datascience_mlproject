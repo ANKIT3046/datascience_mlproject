{
  "nbformat": 4,
  "nbformat_minor": 0,
  "metadata": {
    "colab": {
      "name": "notebookml.train.22.6digit_recognition.using_SVM.ipynb",
      "version": "0.3.2",
      "provenance": [],
      "include_colab_link": true
    },
    "kernelspec": {
      "name": "python3",
      "display_name": "Python 3"
    }
  },
  "cells": [
    {
      "cell_type": "markdown",
      "metadata": {
        "id": "view-in-github",
        "colab_type": "text"
      },
      "source": [
        "<a href=\"https://colab.research.google.com/github/ANKIT3046/datascience_mlproject/blob/supervised_ml/notebookml_train_22_6digit_recognition_using_SVM.ipynb\" target=\"_parent\"><img src=\"https://colab.research.google.com/assets/colab-badge.svg\" alt=\"Open In Colab\"/></a>"
      ]
    },
    {
      "cell_type": "code",
      "metadata": {
        "id": "iajBi2FvzXTA",
        "colab_type": "code",
        "colab": {}
      },
      "source": [
        "from sklearn.datasets import load_digits"
      ],
      "execution_count": 0,
      "outputs": []
    },
    {
      "cell_type": "code",
      "metadata": {
        "id": "zOyHH33cz7gk",
        "colab_type": "code",
        "colab": {}
      },
      "source": [
        "digit_data=load_digits()"
      ],
      "execution_count": 0,
      "outputs": []
    },
    {
      "cell_type": "code",
      "metadata": {
        "id": "YQ6bmvND0Bjb",
        "colab_type": "code",
        "outputId": "2c9e4391-e70a-4c0d-f9b8-13f885916521",
        "colab": {
          "base_uri": "https://localhost:8080/",
          "height": 34
        }
      },
      "source": [
        "dir(digit_data)"
      ],
      "execution_count": 3,
      "outputs": [
        {
          "output_type": "execute_result",
          "data": {
            "text/plain": [
              "['DESCR', 'data', 'images', 'target', 'target_names']"
            ]
          },
          "metadata": {
            "tags": []
          },
          "execution_count": 3
        }
      ]
    },
    {
      "cell_type": "code",
      "metadata": {
        "id": "HFnnRVO70IRy",
        "colab_type": "code",
        "outputId": "2157d9e5-37f9-4ee5-8d62-83b3ea4f0ba0",
        "colab": {
          "base_uri": "https://localhost:8080/",
          "height": 34
        }
      },
      "source": [
        "digit_data.target_names"
      ],
      "execution_count": 4,
      "outputs": [
        {
          "output_type": "execute_result",
          "data": {
            "text/plain": [
              "array([0, 1, 2, 3, 4, 5, 6, 7, 8, 9])"
            ]
          },
          "metadata": {
            "tags": []
          },
          "execution_count": 4
        }
      ]
    },
    {
      "cell_type": "code",
      "metadata": {
        "id": "Wqri2kQJ0OST",
        "colab_type": "code",
        "outputId": "a069833e-f705-4e37-bbfc-931b866baa3b",
        "colab": {
          "base_uri": "https://localhost:8080/",
          "height": 34
        }
      },
      "source": [
        "# training_data\n",
        "features=digit_data.data\n",
        "features.shape"
      ],
      "execution_count": 5,
      "outputs": [
        {
          "output_type": "execute_result",
          "data": {
            "text/plain": [
              "(1797, 64)"
            ]
          },
          "metadata": {
            "tags": []
          },
          "execution_count": 5
        }
      ]
    },
    {
      "cell_type": "code",
      "metadata": {
        "id": "SMdnQr9l0p3w",
        "colab_type": "code",
        "colab": {
          "base_uri": "https://localhost:8080/",
          "height": 34
        },
        "outputId": "8035c68b-1413-4a8f-f20f-57b2980fcc83"
      },
      "source": [
        "# label\n",
        "label=digit_data.target\n",
        "label"
      ],
      "execution_count": 6,
      "outputs": [
        {
          "output_type": "execute_result",
          "data": {
            "text/plain": [
              "array([0, 1, 2, ..., 8, 9, 8])"
            ]
          },
          "metadata": {
            "tags": []
          },
          "execution_count": 6
        }
      ]
    },
    {
      "cell_type": "code",
      "metadata": {
        "id": "XhXJ14K31EoU",
        "colab_type": "code",
        "outputId": "a1ab90ea-f34d-4477-d463-c25e70fb3883",
        "colab": {
          "base_uri": "https://localhost:8080/",
          "height": 34
        }
      },
      "source": [
        "label.shape"
      ],
      "execution_count": 7,
      "outputs": [
        {
          "output_type": "execute_result",
          "data": {
            "text/plain": [
              "(1797,)"
            ]
          },
          "metadata": {
            "tags": []
          },
          "execution_count": 7
        }
      ]
    },
    {
      "cell_type": "code",
      "metadata": {
        "id": "CouiYuSb1SXd",
        "colab_type": "code",
        "colab": {}
      },
      "source": [
        "# actual images\n",
        "images=digit_data.images"
      ],
      "execution_count": 0,
      "outputs": []
    },
    {
      "cell_type": "code",
      "metadata": {
        "id": "PRVTt-NF1gZn",
        "colab_type": "code",
        "outputId": "c000085b-86fe-4eeb-f7a4-16af2187f2ab",
        "colab": {
          "base_uri": "https://localhost:8080/",
          "height": 153
        }
      },
      "source": [
        "images[0]"
      ],
      "execution_count": 9,
      "outputs": [
        {
          "output_type": "execute_result",
          "data": {
            "text/plain": [
              "array([[ 0.,  0.,  5., 13.,  9.,  1.,  0.,  0.],\n",
              "       [ 0.,  0., 13., 15., 10., 15.,  5.,  0.],\n",
              "       [ 0.,  3., 15.,  2.,  0., 11.,  8.,  0.],\n",
              "       [ 0.,  4., 12.,  0.,  0.,  8.,  8.,  0.],\n",
              "       [ 0.,  5.,  8.,  0.,  0.,  9.,  8.,  0.],\n",
              "       [ 0.,  4., 11.,  0.,  1., 12.,  7.,  0.],\n",
              "       [ 0.,  2., 14.,  5., 10., 12.,  0.,  0.],\n",
              "       [ 0.,  0.,  6., 13., 10.,  0.,  0.,  0.]])"
            ]
          },
          "metadata": {
            "tags": []
          },
          "execution_count": 9
        }
      ]
    },
    {
      "cell_type": "code",
      "metadata": {
        "id": "RLxsDLyd1oKE",
        "colab_type": "code",
        "colab": {}
      },
      "source": [
        "# visualing the image\n",
        "import matplotlib.pyplot as plt\n"
      ],
      "execution_count": 0,
      "outputs": []
    },
    {
      "cell_type": "code",
      "metadata": {
        "id": "1EZX77YY1zRZ",
        "colab_type": "code",
        "outputId": "8f908ca4-25e4-48b8-af05-d1129789da10",
        "colab": {
          "base_uri": "https://localhost:8080/",
          "height": 286
        }
      },
      "source": [
        "plt.imshow(images[9])"
      ],
      "execution_count": 11,
      "outputs": [
        {
          "output_type": "execute_result",
          "data": {
            "text/plain": [
              "<matplotlib.image.AxesImage at 0x7f27ee926860>"
            ]
          },
          "metadata": {
            "tags": []
          },
          "execution_count": 11
        },
        {
          "output_type": "display_data",
          "data": {
            "image/png": "[encoded data removed]",
            "text/plain": [
              "<Figure size 432x288 with 1 Axes>"
            ]
          },
          "metadata": {
            "tags": []
          }
        }
      ]
    },
    {
      "cell_type": "code",
      "metadata": {
        "id": "SzIfv3-J14QZ",
        "colab_type": "code",
        "colab": {}
      },
      "source": [
        "from sklearn.svm import SVC, LinearSVC\n",
        "from sklearn.model_selection import train_test_split"
      ],
      "execution_count": 0,
      "outputs": []
    },
    {
      "cell_type": "code",
      "metadata": {
        "id": "V2vgQXbClY_R",
        "colab_type": "code",
        "colab": {}
      },
      "source": [
        "train_data,test_data,train_label,test_label=train_test_split(features,label,test_size=0.27)"
      ],
      "execution_count": 0,
      "outputs": []
    },
    {
      "cell_type": "code",
      "metadata": {
        "id": "PoFzD1Cglxxi",
        "colab_type": "code",
        "colab": {}
      },
      "source": [
        "clf=SVC()\n",
        "clf1=LinearSVC()"
      ],
      "execution_count": 0,
      "outputs": []
    },
    {
      "cell_type": "code",
      "metadata": {
        "id": "si4qA83El70d",
        "colab_type": "code",
        "colab": {
          "base_uri": "https://localhost:8080/",
          "height": 105
        },
        "outputId": "6b234c3d-5a60-420b-860b-db12bacd1b72"
      },
      "source": [
        "train=clf.fit(train_data,train_label)\n",
        "train1=clf1.fit(train_data,train_label)"
      ],
      "execution_count": 15,
      "outputs": [
        {
          "output_type": "stream",
          "text": [
            "/usr/local/lib/python3.6/dist-packages/sklearn/svm/base.py:193: FutureWarning: The default value of gamma will change from 'auto' to 'scale' in version 0.22 to account better for unscaled features. Set gamma explicitly to 'auto' or 'scale' to avoid this warning.\n",
            "  \"avoid this warning.\", FutureWarning)\n",
            "/usr/local/lib/python3.6/dist-packages/sklearn/svm/base.py:929: ConvergenceWarning: Liblinear failed to converge, increase the number of iterations.\n",
            "  \"the number of iterations.\", ConvergenceWarning)\n"
          ],
          "name": "stderr"
        }
      ]
    },
    {
      "cell_type": "code",
      "metadata": {
        "id": "ieArKPjgmAfo",
        "colab_type": "code",
        "colab": {}
      },
      "source": [
        "prediction=train.predict(test_data)\n",
        "prediction1=train1.predict(test_data)"
      ],
      "execution_count": 0,
      "outputs": []
    },
    {
      "cell_type": "code",
      "metadata": {
        "id": "PONoz0aLm91A",
        "colab_type": "code",
        "colab": {
          "base_uri": "https://localhost:8080/",
          "height": 408
        },
        "outputId": "a1968ea2-7919-46fc-8c8a-d7de4433cc37"
      },
      "source": [
        "test_label"
      ],
      "execution_count": 17,
      "outputs": [
        {
          "output_type": "execute_result",
          "data": {
            "text/plain": [
              "array([0, 4, 1, 4, 2, 0, 5, 9, 8, 5, 0, 5, 2, 9, 8, 4, 3, 6, 4, 4, 1, 5,\n",
              "       5, 7, 1, 4, 7, 2, 8, 7, 5, 1, 5, 9, 0, 8, 8, 9, 8, 1, 0, 4, 9, 2,\n",
              "       8, 6, 4, 4, 9, 4, 5, 0, 9, 4, 1, 5, 6, 6, 7, 7, 8, 2, 1, 2, 9, 1,\n",
              "       4, 4, 8, 7, 6, 6, 0, 9, 6, 7, 8, 3, 4, 9, 9, 4, 0, 7, 4, 5, 0, 8,\n",
              "       8, 6, 0, 4, 7, 7, 0, 9, 1, 5, 6, 7, 1, 7, 1, 3, 7, 5, 5, 2, 2, 5,\n",
              "       5, 0, 5, 1, 5, 6, 4, 3, 6, 2, 0, 6, 6, 9, 6, 2, 2, 3, 0, 0, 9, 1,\n",
              "       4, 3, 1, 4, 4, 5, 0, 7, 8, 1, 7, 6, 2, 9, 6, 0, 0, 0, 2, 6, 5, 6,\n",
              "       0, 1, 4, 3, 3, 1, 7, 2, 5, 0, 1, 3, 6, 6, 9, 8, 2, 3, 5, 3, 0, 2,\n",
              "       6, 2, 3, 1, 9, 8, 2, 2, 2, 3, 4, 9, 1, 3, 5, 8, 5, 8, 7, 6, 7, 9,\n",
              "       0, 7, 8, 6, 1, 2, 3, 5, 9, 9, 3, 1, 0, 6, 5, 5, 5, 0, 4, 7, 5, 1,\n",
              "       7, 1, 1, 7, 2, 8, 1, 6, 3, 6, 3, 5, 4, 8, 4, 0, 9, 7, 1, 5, 5, 4,\n",
              "       3, 3, 9, 6, 0, 6, 0, 2, 6, 0, 1, 1, 8, 9, 3, 9, 6, 6, 9, 8, 9, 9,\n",
              "       6, 6, 3, 6, 1, 7, 1, 8, 6, 5, 8, 0, 4, 4, 4, 2, 1, 6, 1, 2, 0, 2,\n",
              "       9, 4, 8, 7, 6, 3, 4, 7, 8, 3, 4, 0, 8, 3, 5, 6, 2, 4, 8, 5, 6, 8,\n",
              "       9, 1, 5, 3, 0, 8, 9, 2, 2, 2, 9, 1, 1, 2, 2, 0, 1, 2, 7, 8, 9, 0,\n",
              "       8, 6, 3, 4, 8, 2, 5, 6, 7, 1, 2, 2, 9, 2, 8, 9, 1, 9, 5, 5, 5, 2,\n",
              "       1, 1, 0, 9, 1, 2, 4, 4, 9, 8, 6, 8, 7, 4, 7, 5, 6, 7, 1, 8, 7, 4,\n",
              "       4, 0, 7, 0, 7, 0, 0, 4, 0, 2, 8, 9, 5, 4, 4, 6, 6, 5, 1, 0, 6, 5,\n",
              "       4, 8, 9, 4, 7, 7, 8, 1, 1, 7, 9, 4, 1, 0, 2, 9, 0, 9, 5, 0, 0, 9,\n",
              "       7, 5, 5, 5, 9, 9, 4, 4, 6, 1, 4, 9, 0, 0, 9, 1, 4, 4, 4, 8, 7, 3,\n",
              "       3, 0, 7, 9, 7, 6, 9, 1, 8, 4, 4, 1, 8, 2, 1, 1, 2, 2, 7, 7, 1, 5,\n",
              "       6, 0, 6, 3, 0, 0, 8, 8, 8, 5, 2, 1, 3, 1, 4, 7, 6, 3, 7, 6, 9, 7,\n",
              "       2, 7])"
            ]
          },
          "metadata": {
            "tags": []
          },
          "execution_count": 17
        }
      ]
    },
    {
      "cell_type": "code",
      "metadata": {
        "id": "blSnkJQvnDFR",
        "colab_type": "code",
        "colab": {}
      },
      "source": [
        "from sklearn.metrics import accuracy_score"
      ],
      "execution_count": 0,
      "outputs": []
    },
    {
      "cell_type": "code",
      "metadata": {
        "id": "B91b0YTUnra1",
        "colab_type": "code",
        "colab": {
          "base_uri": "https://localhost:8080/",
          "height": 51
        },
        "outputId": "1abd6191-bad7-42f4-8a19-8c9dbb3604bb"
      },
      "source": [
        "acc=accuracy_score(test_label,prediction)\n",
        "acc1=accuracy_score(test_label,prediction1)\n",
        "print(acc)\n",
        "print(acc1)"
      ],
      "execution_count": 19,
      "outputs": [
        {
          "output_type": "stream",
          "text": [
            "0.2242798353909465\n",
            "0.9382716049382716\n"
          ],
          "name": "stdout"
        }
      ]
    },
    {
      "cell_type": "code",
      "metadata": {
        "id": "UNNzlCJHn6uB",
        "colab_type": "code",
        "colab": {}
      },
      "source": [
        ""
      ],
      "execution_count": 0,
      "outputs": []
    },
    {
      "cell_type": "code",
      "metadata": {
        "id": "SfPAXYN-oTX_",
        "colab_type": "code",
        "colab": {
          "base_uri": "https://localhost:8080/",
          "height": 34
        },
        "outputId": "5f356217-a756-40e2-de99-3e1def6a4626"
      },
      "source": [
        "new=train1.predict([features[111]])\n",
        "print(new)"
      ],
      "execution_count": 51,
      "outputs": [
        {
          "output_type": "stream",
          "text": [
            "[4]\n"
          ],
          "name": "stdout"
        }
      ]
    },
    {
      "cell_type": "code",
      "metadata": {
        "id": "ERP38XpxosmO",
        "colab_type": "code",
        "colab": {
          "base_uri": "https://localhost:8080/",
          "height": 286
        },
        "outputId": "6fc423a1-8f31-4d4b-ff28-1f696861fa09"
      },
      "source": [
        "plt.imshow(images[111])"
      ],
      "execution_count": 52,
      "outputs": [
        {
          "output_type": "execute_result",
          "data": {
            "text/plain": [
              "<matplotlib.image.AxesImage at 0x7f27e9cf7080>"
            ]
          },
          "metadata": {
            "tags": []
          },
          "execution_count": 52
        },
        {
          "output_type": "display_data",
          "data": {
            "image/png": "[encoded data removed]",
            "text/plain": [
              "<Figure size 432x288 with 1 Axes>"
            ]
          },
          "metadata": {
            "tags": []
          }
        }
      ]
    },
    {
      "cell_type": "code",
      "metadata": {
        "id": "RU-8vGb6psh4",
        "colab_type": "code",
        "colab": {}
      },
      "source": [
        ""
      ],
      "execution_count": 0,
      "outputs": []
    }
  ]
}